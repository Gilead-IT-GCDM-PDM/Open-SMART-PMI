{
 "cells": [
  {
   "cell_type": "markdown",
   "metadata": {},
   "source": [
    "# Smart PMI Random Forest Pipeline"
   ]
  },
  {
   "cell_type": "code",
   "execution_count": 3,
   "metadata": {},
   "outputs": [],
   "source": [
    "import numpy as np\n",
    "import pandas as pd\n",
    "import sys, os\n",
    "import random\n",
    "import re\n",
    "\n",
    "from rdkit import Chem\n",
    "from rdkit.Chem import PandasTools\n",
    "from mordred import Calculator, descriptors\n",
    "\n",
    "from sklearn.model_selection import train_test_split, RandomizedSearchCV, cross_val_score\n",
    "from sklearn.metrics import mean_absolute_error, mean_squared_error, r2_score\n",
    "from sklearn.ensemble import RandomForestRegressor, HistGradientBoostingRegressor\n",
    "\n",
    "import matplotlib.pyplot as plt\n",
    "import seaborn as sns\n",
    "sns.set_theme()"
   ]
  },
  {
   "cell_type": "markdown",
   "metadata": {},
   "source": [
    "## Preprocessing"
   ]
  },
  {
   "cell_type": "code",
   "execution_count": 2,
   "metadata": {},
   "outputs": [],
   "source": [
    "# -- helper functions\n",
    "np.random.seed(42)\n",
    "random.seed(42)\n",
    "\n",
    "# -- get RDKit featurizers\n",
    "descriptor_names = list(Chem.rdMolDescriptors.Properties.GetAvailableProperties())\n",
    "get_descriptors = Chem.rdMolDescriptors.Properties(descriptor_names)\n",
    "# -- get Mordred featurizers\n",
    "calc = Calculator(descriptors, ignore_3D=True)\n",
    "\n",
    "def smi_to_descriptors(smile):\n",
    "    # -- RDK helper func\n",
    "    mol = Chem.MolFromSmiles(smile)\n",
    "    descriptors = []\n",
    "    if mol:\n",
    "        # -- use RDKit featurizers\n",
    "        descriptors = np.array(get_descriptors.ComputeProperties(mol))\n",
    "    return descriptors \n",
    "\n",
    "# -- apply molecular featurization on SMILES\n",
    "def featurize(df, use_rdk = False, use_m = False):\n",
    "    df = df.copy()\n",
    "    smiles = df.SMILES\n",
    "    append = [df]\n",
    "\n",
    "    # -- use RDKit featurizers\n",
    "    if use_rdk:\n",
    "        rdkit_desc = list(df.SMILES.apply(smi_to_descriptors))\n",
    "        desc_df = pd.DataFrame(rdkit_desc, columns=descriptor_names)\n",
    "        append += [desc_df]\n",
    "    # -- use Mordred featurizers\n",
    "    if use_m:\n",
    "        mols = [Chem.MolFromSmiles(smi) for smi in smiles if Chem.MolFromSmiles(smi) != None]\n",
    "        # drop = ['SpAbs_Dt',\t'SpMax_Dt'\t,'SpDiam_Dt'\t,'SpAD_Dt',\t'SpMAD_Dt'\t,'LogEE_Dt'\t,'SM1_Dt'\t,'VE1_Dt',\t'VE2_Dt',\n",
    "\t    #         'VE3_Dt',\t'VR1_Dt',\t'VR2_Dt',\t'VR3_Dt'\t,'DetourIndex']\n",
    "        mord_df = calc.pandas(mols) #.select_dtypes(include=['int64', 'float64'])\n",
    "        append += [mord_df]\n",
    "    \n",
    "    return pd.concat(append, axis=1)\n",
    "\n",
    "# -- find columns uncommon to dfs\n",
    "def validate_cols(df1, df2):\n",
    "    cols1, cols2 = df1.columns, df2.columns\n",
    "    validate_cols = [feature for feature in cols1 if feature not in cols2]\n",
    "    uncommon = set(cols1) ^ set(cols2)\n",
    "    print('outlying features (empty is good):', uncommon)"
   ]
  },
  {
   "cell_type": "code",
   "execution_count": 3,
   "metadata": {},
   "outputs": [],
   "source": [
    "# test imports : TODO: preprocess X\n",
    "\n",
    "## get SMILES data from test AND Merck Model predictions\n",
    "test_smi_path = './data/testdata.sdf'\n",
    "test_smis = Chem.PandasTools.LoadSDF(test_smi_path, smilesName = 'SMILES')[['ID','SMILES']]\n",
    "\n",
    "## get attrs from test\n",
    "attr_path = './data/parsed_attributes.csv'\n",
    "test_attr= pd.read_csv(attr_path)\n",
    "\n",
    "## naming\n",
    "test = pd.concat([test_smis, test_attr], ignore_index=False, axis=1)\n",
    "true_test = [3.1, 3.0, 3.1, 3.3, 1.9,4.0, 3.1, 4.1, 3.4, \n",
    "            2.5, 3.5, 2.8, 4.2, 2.5, 3.9, 2.8, 2.9, 3.3,\n",
    "            4.7, 3.9, 2.9, 4.3, 4.2, 2.9, 3.5, 4.4, 4.3, 3.2]\n",
    "test['TRUE'] = true_test"
   ]
  },
  {
   "cell_type": "code",
   "execution_count": 4,
   "metadata": {},
   "outputs": [],
   "source": [
    "# -- load training data [train_y, train_x]\n",
    "train_path = './data/ci5001778_si_001.txt'\n",
    "train = pd.read_csv(train_path).drop(['MOLECULE', 'Source', 'Votes'], axis=1)\n",
    "\n",
    "## -- naming\n",
    "train['meanComplexity'] = train.meanComplexity.apply(lambda x: np.round(x, decimals=3))\n",
    "con_pre = [col.replace('DESCRIPTORCOMPLEXITY_','') for col in train.columns]\n",
    "con_pre2 = [col.replace('SP3CARBONS_', '') for col in con_pre]\n",
    "no_moe_cols = [col for col in con_pre2 if 'MOE_2D_' not in col]\n",
    "## -- get rid of moe columns\n",
    "train.columns = con_pre2"
   ]
  },
  {
   "cell_type": "code",
   "execution_count": 5,
   "metadata": {},
   "outputs": [
    {
     "name": "stderr",
     "output_type": "stream",
     "text": [
      "[11:59:16] Explicit valence for atom # 14 N, 4, is greater than permitted\n",
      "[11:59:17] Explicit valence for atom # 9 N, 4, is greater than permitted\n",
      "[11:59:17] Explicit valence for atom # 22 N, 4, is greater than permitted\n",
      "[11:59:17] Explicit valence for atom # 17 N, 4, is greater than permitted\n",
      "[11:59:17] Explicit valence for atom # 26 N, 4, is greater than permitted\n",
      "[11:59:17] Explicit valence for atom # 21 N, 4, is greater than permitted\n",
      "[11:59:17] Explicit valence for atom # 11 N, 4, is greater than permitted\n",
      "[11:59:17] Explicit valence for atom # 21 N, 4, is greater than permitted\n",
      "[11:59:18] Explicit valence for atom # 8 N, 4, is greater than permitted\n",
      "[11:59:18] Explicit valence for atom # 12 N, 4, is greater than permitted\n",
      "[11:59:18] Explicit valence for atom # 7 N, 4, is greater than permitted\n",
      "[11:59:18] Explicit valence for atom # 18 N, 4, is greater than permitted\n",
      "[11:59:18] Explicit valence for atom # 28 N, 4, is greater than permitted\n",
      "[11:59:18] Explicit valence for atom # 17 N, 4, is greater than permitted\n",
      "[11:59:18] Explicit valence for atom # 5 N, 4, is greater than permitted\n",
      "[11:59:18] Explicit valence for atom # 21 N, 4, is greater than permitted\n",
      "[11:59:18] Explicit valence for atom # 9 N, 4, is greater than permitted\n",
      "[11:59:18] Explicit valence for atom # 29 N, 4, is greater than permitted\n",
      "[11:59:18] Explicit valence for atom # 29 N, 4, is greater than permitted\n",
      "[11:59:18] Explicit valence for atom # 8 N, 4, is greater than permitted\n",
      "[11:59:18] Explicit valence for atom # 11 N, 4, is greater than permitted\n",
      "[11:59:18] Explicit valence for atom # 17 N, 4, is greater than permitted\n",
      "[11:59:18] Explicit valence for atom # 39 N, 4, is greater than permitted\n",
      "[11:59:18] Explicit valence for atom # 7 N, 4, is greater than permitted\n",
      "[11:59:18] Explicit valence for atom # 13 N, 4, is greater than permitted\n",
      "[11:59:19] Explicit valence for atom # 23 N, 4, is greater than permitted\n",
      "[11:59:19] Explicit valence for atom # 13 N, 4, is greater than permitted\n",
      "[11:59:19] Explicit valence for atom # 11 N, 4, is greater than permitted\n",
      "[11:59:19] Explicit valence for atom # 24 N, 4, is greater than permitted\n",
      "[11:59:19] Explicit valence for atom # 10 N, 4, is greater than permitted\n",
      "[11:59:19] Explicit valence for atom # 6 N, 4, is greater than permitted\n",
      "[11:59:19] Explicit valence for atom # 29 N, 4, is greater than permitted\n",
      "[11:59:19] Explicit valence for atom # 3 N, 4, is greater than permitted\n",
      "[11:59:19] Explicit valence for atom # 8 N, 4, is greater than permitted\n",
      "[11:59:19] Explicit valence for atom # 16 N, 4, is greater than permitted\n",
      "[11:59:19] Explicit valence for atom # 30 N, 4, is greater than permitted\n",
      "[11:59:19] Explicit valence for atom # 25 N, 4, is greater than permitted\n",
      "[11:59:19] Explicit valence for atom # 16 N, 4, is greater than permitted\n",
      "[11:59:19] Explicit valence for atom # 10 N, 4, is greater than permitted\n",
      "[11:59:20] Explicit valence for atom # 10 N, 4, is greater than permitted\n",
      "[11:59:21] Explicit valence for atom # 8 N, 4, is greater than permitted\n",
      "[11:59:21] Explicit valence for atom # 19 N, 4, is greater than permitted\n",
      "[11:59:22] Explicit valence for atom # 9 N, 4, is greater than permitted\n",
      "[11:59:22] Explicit valence for atom # 12 N, 4, is greater than permitted\n",
      "[11:59:22] Explicit valence for atom # 14 N, 4, is greater than permitted\n",
      "[11:59:22] Explicit valence for atom # 9 N, 4, is greater than permitted\n",
      "[11:59:22] Explicit valence for atom # 22 N, 4, is greater than permitted\n",
      "[11:59:22] Explicit valence for atom # 17 N, 4, is greater than permitted\n",
      "[11:59:22] Explicit valence for atom # 26 N, 4, is greater than permitted\n",
      "[11:59:22] Explicit valence for atom # 21 N, 4, is greater than permitted\n",
      "[11:59:22] Explicit valence for atom # 11 N, 4, is greater than permitted\n",
      "[11:59:22] Explicit valence for atom # 21 N, 4, is greater than permitted\n",
      "[11:59:22] Explicit valence for atom # 8 N, 4, is greater than permitted\n",
      "[11:59:22] Explicit valence for atom # 12 N, 4, is greater than permitted\n",
      "[11:59:22] Explicit valence for atom # 7 N, 4, is greater than permitted\n",
      "[11:59:22] Explicit valence for atom # 18 N, 4, is greater than permitted\n",
      "[11:59:22] Explicit valence for atom # 28 N, 4, is greater than permitted\n",
      "[11:59:22] Explicit valence for atom # 17 N, 4, is greater than permitted\n",
      "[11:59:22] Explicit valence for atom # 5 N, 4, is greater than permitted\n",
      "[11:59:22] Explicit valence for atom # 21 N, 4, is greater than permitted\n",
      "[11:59:22] Explicit valence for atom # 9 N, 4, is greater than permitted\n",
      "[11:59:22] Explicit valence for atom # 29 N, 4, is greater than permitted\n",
      "[11:59:22] Explicit valence for atom # 29 N, 4, is greater than permitted\n",
      "[11:59:22] Explicit valence for atom # 8 N, 4, is greater than permitted\n",
      "[11:59:22] Explicit valence for atom # 11 N, 4, is greater than permitted\n",
      "[11:59:22] Explicit valence for atom # 17 N, 4, is greater than permitted\n",
      "[11:59:22] Explicit valence for atom # 39 N, 4, is greater than permitted\n",
      "[11:59:22] Explicit valence for atom # 7 N, 4, is greater than permitted\n",
      "[11:59:22] Explicit valence for atom # 13 N, 4, is greater than permitted\n",
      "[11:59:22] Explicit valence for atom # 23 N, 4, is greater than permitted\n",
      "[11:59:22] Explicit valence for atom # 13 N, 4, is greater than permitted\n",
      "[11:59:22] Explicit valence for atom # 11 N, 4, is greater than permitted\n",
      "[11:59:22] Explicit valence for atom # 24 N, 4, is greater than permitted\n",
      "[11:59:22] Explicit valence for atom # 10 N, 4, is greater than permitted\n",
      "[11:59:22] Explicit valence for atom # 6 N, 4, is greater than permitted\n",
      "[11:59:22] Explicit valence for atom # 29 N, 4, is greater than permitted\n",
      "[11:59:22] Explicit valence for atom # 3 N, 4, is greater than permitted\n",
      "[11:59:22] Explicit valence for atom # 8 N, 4, is greater than permitted\n",
      "[11:59:23] Explicit valence for atom # 16 N, 4, is greater than permitted\n",
      "[11:59:23] Explicit valence for atom # 30 N, 4, is greater than permitted\n",
      "[11:59:23] Explicit valence for atom # 25 N, 4, is greater than permitted\n",
      "[11:59:23] Explicit valence for atom # 16 N, 4, is greater than permitted\n",
      "[11:59:23] Explicit valence for atom # 10 N, 4, is greater than permitted\n",
      "[11:59:23] Explicit valence for atom # 10 N, 4, is greater than permitted\n",
      "[11:59:23] Explicit valence for atom # 8 N, 4, is greater than permitted\n",
      "[11:59:23] Explicit valence for atom # 19 N, 4, is greater than permitted\n",
      "[11:59:23] Explicit valence for atom # 9 N, 4, is greater than permitted\n",
      "[11:59:23] Explicit valence for atom # 12 N, 4, is greater than permitted\n",
      " 12%|█▏        | 210/1731 [00:11<00:52, 29.08it/s]"
     ]
    },
    {
     "name": "stdout",
     "output_type": "stream",
     "text": [
      "/Users/nicolelrtin/miniconda3/lib/python3.9/site-packages/numpy/core/fromnumeric.py:86: RuntimeWarning: overflow encountered in reduce\n",
      "  return ufunc.reduce(obj, axis, dtype, out, **passkwargs)\n"
     ]
    },
    {
     "name": "stderr",
     "output_type": "stream",
     "text": [
      " 18%|█▊        | 303/1731 [00:15<01:59, 11.93it/s]"
     ]
    },
    {
     "name": "stdout",
     "output_type": "stream",
     "text": [
      "/Users/nicolelrtin/miniconda3/lib/python3.9/site-packages/numpy/core/fromnumeric.py:86: RuntimeWarning: overflow encountered in reduce\n",
      "  return ufunc.reduce(obj, axis, dtype, out, **passkwargs)\n"
     ]
    },
    {
     "name": "stderr",
     "output_type": "stream",
     "text": [
      " 21%|██        | 362/1731 [00:19<01:32, 14.73it/s]"
     ]
    },
    {
     "name": "stdout",
     "output_type": "stream",
     "text": [
      "/Users/nicolelrtin/miniconda3/lib/python3.9/site-packages/numpy/core/fromnumeric.py:86: RuntimeWarning: overflow encountered in reduce\n",
      "  return ufunc.reduce(obj, axis, dtype, out, **passkwargs)\n"
     ]
    },
    {
     "name": "stderr",
     "output_type": "stream",
     "text": [
      " 40%|████      | 697/1731 [00:40<00:58, 17.63it/s]"
     ]
    },
    {
     "name": "stdout",
     "output_type": "stream",
     "text": [
      "/Users/nicolelrtin/miniconda3/lib/python3.9/site-packages/numpy/core/fromnumeric.py:86: RuntimeWarning: overflow encountered in reduce\n",
      "  return ufunc.reduce(obj, axis, dtype, out, **passkwargs)\n"
     ]
    },
    {
     "name": "stderr",
     "output_type": "stream",
     "text": [
      " 58%|█████▊    | 1009/1731 [01:00<00:47, 15.10it/s]"
     ]
    },
    {
     "name": "stdout",
     "output_type": "stream",
     "text": [
      "/Users/nicolelrtin/miniconda3/lib/python3.9/site-packages/numpy/core/fromnumeric.py:86: RuntimeWarning: overflow encountered in reduce\n",
      "  return ufunc.reduce(obj, axis, dtype, out, **passkwargs)\n"
     ]
    },
    {
     "name": "stderr",
     "output_type": "stream",
     "text": [
      " 64%|██████▍   | 1110/1731 [01:07<00:38, 16.29it/s]"
     ]
    },
    {
     "name": "stdout",
     "output_type": "stream",
     "text": [
      "/Users/nicolelrtin/miniconda3/lib/python3.9/site-packages/numpy/core/fromnumeric.py:86: RuntimeWarning: overflow encountered in reduce\n",
      "  return ufunc.reduce(obj, axis, dtype, out, **passkwargs)\n"
     ]
    },
    {
     "name": "stderr",
     "output_type": "stream",
     "text": [
      " 76%|███████▋  | 1320/1731 [01:27<01:52,  3.64it/s]"
     ]
    },
    {
     "name": "stdout",
     "output_type": "stream",
     "text": [
      "/Users/nicolelrtin/miniconda3/lib/python3.9/site-packages/numpy/core/fromnumeric.py:86: RuntimeWarning: overflow encountered in reduce\n",
      "  return ufunc.reduce(obj, axis, dtype, out, **passkwargs)\n"
     ]
    },
    {
     "name": "stderr",
     "output_type": "stream",
     "text": [
      " 78%|███████▊  | 1346/1731 [01:29<00:50,  7.67it/s]"
     ]
    },
    {
     "name": "stdout",
     "output_type": "stream",
     "text": [
      "/Users/nicolelrtin/miniconda3/lib/python3.9/site-packages/numpy/core/fromnumeric.py:86: RuntimeWarning: overflow encountered in reduce\n",
      "  return ufunc.reduce(obj, axis, dtype, out, **passkwargs)\n"
     ]
    },
    {
     "name": "stderr",
     "output_type": "stream",
     "text": [
      "100%|██████████| 1731/1731 [01:55<00:00, 14.94it/s]\n"
     ]
    }
   ],
   "source": [
    "flag_nulls = featurize(train[no_moe_cols], True, True)\n",
    "exclude = flag_nulls[flag_nulls.isna().any(axis=1)].index\n",
    "trim = lambda df : df[~df.index.isin(exclude)]"
   ]
  },
  {
   "cell_type": "markdown",
   "metadata": {},
   "source": [
    "## Train Test Split"
   ]
  },
  {
   "cell_type": "code",
   "execution_count": 7,
   "metadata": {},
   "outputs": [],
   "source": [
    "# funky_cols = big_train.select_dtypes(exclude=['int64', 'float64']).columns\n",
    "# big_train[funky_cols] = big_train[funky_cols].apply(pd.to_numeric, errors='coerce').fillna(np.mean).isna().sum()"
   ]
  },
  {
   "cell_type": "code",
   "execution_count": 8,
   "metadata": {},
   "outputs": [],
   "source": [
    "# validate_cols(big_train, big_test)\n",
    "# big_test[funky_cols] = big_test[funky_cols].apply(pd.to_numeric, errors='coerce').fillna(np.mean).isna().sum()\n"
   ]
  },
  {
   "cell_type": "markdown",
   "metadata": {},
   "source": [
    "## Modeling"
   ]
  },
  {
   "cell_type": "code",
   "execution_count": 1,
   "metadata": {},
   "outputs": [],
   "source": [
    "def rf_regress(x, rf = True, search = False, classify = False):\n",
    "    # -- Pick model\n",
    "    if rf:\n",
    "        model = RandomForestRegressor(random_state=42) \n",
    "        # if not classify else RandomForestClassifier(random_state=42) \n",
    "    else:\n",
    "        model = HistGradientBoostingRegressor(random_state=42, min_samples_leaf= 6,max_leaf_nodes= 5,max_depth= 6,l2_regularization= 1.5) \n",
    "        # if not classify else HistGradientBoostingClassifier(random_state=42) \n",
    "    \n",
    "    if search:\n",
    "        # -- Parameter Tuning\n",
    "        random_grid = {}\n",
    "        # Maximum number of levels in tree\n",
    "        max_depth = [int(x) for x in np.linspace(3, 10, num = 3)]\n",
    "        random_grid['max_depth'] = max_depth\n",
    "        # Minimum number of samples required at each leaf node\n",
    "        min_samples_leaf = [1, 2, 4, 6, 10]\n",
    "        random_grid['min_samples_leaf'] = min_samples_leaf\n",
    "    \n",
    "        if rf:\n",
    "            # Number of trees in random forest\n",
    "            n_estimators = [int(x) for x in np.linspace(start = 50, stop = 1000, num = 10)]\n",
    "            random_grid['n_estimators'] = n_estimators\n",
    "            # Number of features to consider at every split\n",
    "            max_features = ['auto', 'sqrt', 'log2']\n",
    "            random_grid['max_features'] = max_features\n",
    "            # Minimum number of samples required to split a node\n",
    "            min_samples_split = [5, 10, 20, 30]\n",
    "            random_grid['min_samples_split'] = min_samples_split\n",
    "            # Method of selecting samples for training each tree\n",
    "            bootstrap = [True, False]\n",
    "            random_grid['bootstrap'] = bootstrap\n",
    "        else:\n",
    "            # Maximum number of leaves for each tree\n",
    "            max_leaf_nodes = [3, 5, 10, 20, 30]\n",
    "            random_grid['max_leaf_nodes'] = max_leaf_nodes\n",
    "            # L2 Reg parameter\n",
    "            l2_regularization = [0, 1.5,] # --ORIGINAL--\n",
    "            # l2_regularization = [0,0.001, 0.01, 0,1, 0.5, 1, 1.5, 2, 2.5]\n",
    "            random_grid['l2_regularization'] = l2_regularization\n",
    "        \n",
    "        model = RandomizedSearchCV(estimator = model, param_distributions = random_grid, # --ORIGINAL--\n",
    "                                    n_iter = 40, cv = 3, verbose=2, random_state=42, n_jobs = -1) \n",
    "        # model = RandomizedSearchCV(estimator = model, param_distributions = random_grid,\n",
    "        #                             n_iter = 45, verbose=2, random_state=42, n_jobs = -1) \n",
    "\n",
    "    # x = x.apply(lambda i: np.log10(i) if np.issubdtype(type(i), np.number) else i)\n",
    "    model.fit(x[s:], train_y[s:])\n",
    "\n",
    "    # print('model parameters', standard_model.get_params())\n",
    "    print('...Validation...')\n",
    "    pred = model.predict(x[:s])\n",
    "    mae = mean_absolute_error(train_y[:s], pred)\n",
    "    mse = mean_squared_error(train_y[:s], pred)\n",
    "    rmse = mse**.5\n",
    "    r2 = r2_score(train_y[:s], pred)\n",
    "    scores = cross_val_score(model, x[:s], train_y[:s], scoring='r2', cv=5)\n",
    "    \n",
    "    print(' MAE', mae)\n",
    "    print(' MSE', mse)\n",
    "    print(' RMSE',rmse)\n",
    "    print(' R^2', r2)\n",
    "    print(' CV-R^2', scores)\n",
    "    print(' avg CV-R^2', np.mean(scores))\n",
    "\n",
    "    return {'MSE':mse, 'RMSE': rmse, 'R^2': r2, 'Predictions':pred, 'Model': model}\n"
   ]
  },
  {
   "cell_type": "code",
   "execution_count": 2,
   "metadata": {},
   "outputs": [
    {
     "name": "stdout",
     "output_type": "stream",
     "text": [
      "\n",
      " the whole enchilada (everything) ..\n"
     ]
    },
    {
     "ename": "NameError",
     "evalue": "name 'big_train' is not defined",
     "output_type": "error",
     "traceback": [
      "\u001b[0;31m---------------------------------------------------------------------------\u001b[0m",
      "\u001b[0;31mNameError\u001b[0m                                 Traceback (most recent call last)",
      "\u001b[1;32m/Users/nicolelrtin/Documents/smart_pmi/smartpmi_preprocessing copy.ipynb Cell 13\u001b[0m in \u001b[0;36m<cell line: 6>\u001b[0;34m()\u001b[0m\n\u001b[1;32m      <a href='vscode-notebook-cell:/Users/nicolelrtin/Documents/smart_pmi/smartpmi_preprocessing%20copy.ipynb#X21sZmlsZQ%3D%3D?line=0'>1</a>\u001b[0m \u001b[39m# print('\\n no moe (baseline) .................')\u001b[39;00m\n\u001b[1;32m      <a href='vscode-notebook-cell:/Users/nicolelrtin/Documents/smart_pmi/smartpmi_preprocessing%20copy.ipynb#X21sZmlsZQ%3D%3D?line=1'>2</a>\u001b[0m \u001b[39m# base = rf_regress(no_moe)\u001b[39;00m\n\u001b[1;32m      <a href='vscode-notebook-cell:/Users/nicolelrtin/Documents/smart_pmi/smartpmi_preprocessing%20copy.ipynb#X21sZmlsZQ%3D%3D?line=2'>3</a>\u001b[0m \n\u001b[1;32m      <a href='vscode-notebook-cell:/Users/nicolelrtin/Documents/smart_pmi/smartpmi_preprocessing%20copy.ipynb#X21sZmlsZQ%3D%3D?line=3'>4</a>\u001b[0m \u001b[39m# train_x + rdkit + mordred\u001b[39;00m\n\u001b[1;32m      <a href='vscode-notebook-cell:/Users/nicolelrtin/Documents/smart_pmi/smartpmi_preprocessing%20copy.ipynb#X21sZmlsZQ%3D%3D?line=4'>5</a>\u001b[0m \u001b[39mprint\u001b[39m(\u001b[39m'\u001b[39m\u001b[39m\\n\u001b[39;00m\u001b[39m the whole enchilada (everything) ..\u001b[39m\u001b[39m'\u001b[39m)\n\u001b[0;32m----> <a href='vscode-notebook-cell:/Users/nicolelrtin/Documents/smart_pmi/smartpmi_preprocessing%20copy.ipynb#X21sZmlsZQ%3D%3D?line=5'>6</a>\u001b[0m everything \u001b[39m=\u001b[39m rf_regress(big_train, rf\u001b[39m=\u001b[39m\u001b[39mFalse\u001b[39;00m, search\u001b[39m=\u001b[39m\u001b[39mFalse\u001b[39;00m)\n",
      "\u001b[0;31mNameError\u001b[0m: name 'big_train' is not defined"
     ]
    }
   ],
   "source": [
    "# print('\\n no moe (baseline) .................')\n",
    "# base = rf_regress(no_moe)\n",
    "\n",
    "# train_x + rdkit + mordred\n",
    "print('\\n the whole enchilada (everything) ..')\n",
    "everything = rf_regress(big_train, rf=False, search=False)"
   ]
  },
  {
   "cell_type": "code",
   "execution_count": null,
   "metadata": {},
   "outputs": [
    {
     "data": {
      "text/html": [
       "<style>#sk-container-id-1 {color: black;background-color: white;}#sk-container-id-1 pre{padding: 0;}#sk-container-id-1 div.sk-toggleable {background-color: white;}#sk-container-id-1 label.sk-toggleable__label {cursor: pointer;display: block;width: 100%;margin-bottom: 0;padding: 0.3em;box-sizing: border-box;text-align: center;}#sk-container-id-1 label.sk-toggleable__label-arrow:before {content: \"▸\";float: left;margin-right: 0.25em;color: #696969;}#sk-container-id-1 label.sk-toggleable__label-arrow:hover:before {color: black;}#sk-container-id-1 div.sk-estimator:hover label.sk-toggleable__label-arrow:before {color: black;}#sk-container-id-1 div.sk-toggleable__content {max-height: 0;max-width: 0;overflow: hidden;text-align: left;background-color: #f0f8ff;}#sk-container-id-1 div.sk-toggleable__content pre {margin: 0.2em;color: black;border-radius: 0.25em;background-color: #f0f8ff;}#sk-container-id-1 input.sk-toggleable__control:checked~div.sk-toggleable__content {max-height: 200px;max-width: 100%;overflow: auto;}#sk-container-id-1 input.sk-toggleable__control:checked~label.sk-toggleable__label-arrow:before {content: \"▾\";}#sk-container-id-1 div.sk-estimator input.sk-toggleable__control:checked~label.sk-toggleable__label {background-color: #d4ebff;}#sk-container-id-1 div.sk-label input.sk-toggleable__control:checked~label.sk-toggleable__label {background-color: #d4ebff;}#sk-container-id-1 input.sk-hidden--visually {border: 0;clip: rect(1px 1px 1px 1px);clip: rect(1px, 1px, 1px, 1px);height: 1px;margin: -1px;overflow: hidden;padding: 0;position: absolute;width: 1px;}#sk-container-id-1 div.sk-estimator {font-family: monospace;background-color: #f0f8ff;border: 1px dotted black;border-radius: 0.25em;box-sizing: border-box;margin-bottom: 0.5em;}#sk-container-id-1 div.sk-estimator:hover {background-color: #d4ebff;}#sk-container-id-1 div.sk-parallel-item::after {content: \"\";width: 100%;border-bottom: 1px solid gray;flex-grow: 1;}#sk-container-id-1 div.sk-label:hover label.sk-toggleable__label {background-color: #d4ebff;}#sk-container-id-1 div.sk-serial::before {content: \"\";position: absolute;border-left: 1px solid gray;box-sizing: border-box;top: 0;bottom: 0;left: 50%;z-index: 0;}#sk-container-id-1 div.sk-serial {display: flex;flex-direction: column;align-items: center;background-color: white;padding-right: 0.2em;padding-left: 0.2em;position: relative;}#sk-container-id-1 div.sk-item {position: relative;z-index: 1;}#sk-container-id-1 div.sk-parallel {display: flex;align-items: stretch;justify-content: center;background-color: white;position: relative;}#sk-container-id-1 div.sk-item::before, #sk-container-id-1 div.sk-parallel-item::before {content: \"\";position: absolute;border-left: 1px solid gray;box-sizing: border-box;top: 0;bottom: 0;left: 50%;z-index: -1;}#sk-container-id-1 div.sk-parallel-item {display: flex;flex-direction: column;z-index: 1;position: relative;background-color: white;}#sk-container-id-1 div.sk-parallel-item:first-child::after {align-self: flex-end;width: 50%;}#sk-container-id-1 div.sk-parallel-item:last-child::after {align-self: flex-start;width: 50%;}#sk-container-id-1 div.sk-parallel-item:only-child::after {width: 0;}#sk-container-id-1 div.sk-dashed-wrapped {border: 1px dashed gray;margin: 0 0.4em 0.5em 0.4em;box-sizing: border-box;padding-bottom: 0.4em;background-color: white;}#sk-container-id-1 div.sk-label label {font-family: monospace;font-weight: bold;display: inline-block;line-height: 1.2em;}#sk-container-id-1 div.sk-label-container {text-align: center;}#sk-container-id-1 div.sk-container {/* jupyter's `normalize.less` sets `[hidden] { display: none; }` but bootstrap.min.css set `[hidden] { display: none !important; }` so we also need the `!important` here to be able to override the default hidden behavior on the sphinx rendered scikit-learn.org. See: https://github.com/scikit-learn/scikit-learn/issues/21755 */display: inline-block !important;position: relative;}#sk-container-id-1 div.sk-text-repr-fallback {display: none;}</style><div id=\"sk-container-id-1\" class=\"sk-top-container\"><div class=\"sk-text-repr-fallback\"><pre>HistGradientBoostingRegressor(l2_regularization=1.5, max_depth=6,\n",
       "                              max_leaf_nodes=5, min_samples_leaf=6,\n",
       "                              random_state=42)</pre><b>In a Jupyter environment, please rerun this cell to show the HTML representation or trust the notebook. <br />On GitHub, the HTML representation is unable to render, please try loading this page with nbviewer.org.</b></div><div class=\"sk-container\" hidden><div class=\"sk-item\"><div class=\"sk-estimator sk-toggleable\"><input class=\"sk-toggleable__control sk-hidden--visually\" id=\"sk-estimator-id-1\" type=\"checkbox\" checked><label for=\"sk-estimator-id-1\" class=\"sk-toggleable__label sk-toggleable__label-arrow\">HistGradientBoostingRegressor</label><div class=\"sk-toggleable__content\"><pre>HistGradientBoostingRegressor(l2_regularization=1.5, max_depth=6,\n",
       "                              max_leaf_nodes=5, min_samples_leaf=6,\n",
       "                              random_state=42)</pre></div></div></div></div></div>"
      ],
      "text/plain": [
       "HistGradientBoostingRegressor(l2_regularization=1.5, max_depth=6,\n",
       "                              max_leaf_nodes=5, min_samples_leaf=6,\n",
       "                              random_state=42)"
      ]
     },
     "execution_count": 12,
     "metadata": {},
     "output_type": "execute_result"
    }
   ],
   "source": [
    "everything['Model']"
   ]
  },
  {
   "cell_type": "markdown",
   "metadata": {},
   "source": [
    "## Test Evaluation (against Merck)"
   ]
  },
  {
   "cell_type": "code",
   "execution_count": null,
   "metadata": {},
   "outputs": [],
   "source": [
    "poos = everything['Model'].predict(big_test)\n",
    "mnm = pd.DataFrame({'idx':test.ID, 'GS Pred':poos, \n",
    "            'Merck Pred':test.PREDICTED, 'Trues':true_test}).set_index('idx').sort_values('Trues')"
   ]
  },
  {
   "cell_type": "code",
   "execution_count": null,
   "metadata": {},
   "outputs": [
    {
     "data": {
      "text/plain": [
       "<matplotlib.legend.Legend at 0x7fcab2c8bd30>"
      ]
     },
     "execution_count": 14,
     "metadata": {},
     "output_type": "execute_result"
    },
    {
     "data": {
      "image/png": "[encoded data removed]",
      "text/plain": [
       "<Figure size 432x288 with 1 Axes>"
      ]
     },
     "metadata": {
      "needs_background": "light"
     },
     "output_type": "display_data"
    }
   ],
   "source": [
    "plt.scatter(range(28), mnm['Merck Pred'], c='gray', label = 'Merck Predictions')\n",
    "plt.scatter(range(28), mnm['GS Pred'], c='teal', label = 'GS Predictions')\n",
    "plt.scatter(range(28), mnm['Trues'], c='green', label = 'True Values')\n",
    "plt.xlabel('Molecule ID')\n",
    "plt.ylabel('Complexity')\n",
    "plt.title('Foreign Predictions')\n",
    "plt.legend()"
   ]
  },
  {
   "cell_type": "code",
   "execution_count": null,
   "metadata": {},
   "outputs": [
    {
     "data": {
      "text/plain": [
       "<matplotlib.legend.Legend at 0x7fca904a66d0>"
      ]
     },
     "execution_count": 15,
     "metadata": {},
     "output_type": "execute_result"
    },
    {
     "data": {
      "image/png": "[encoded data removed]",
      "text/plain": [
       "<Figure size 432x288 with 1 Axes>"
      ]
     },
     "metadata": {
      "needs_background": "light"
     },
     "output_type": "display_data"
    }
   ],
   "source": [
    "mml = pd.DataFrame({'pred':everything['Predictions'], 'real':train_y[:s]}).sort_values('real')\n",
    "plt.scatter(range(500), mml.pred, label='GS Predictions')\n",
    "plt.scatter(range(500), mml.real, label = 'True Values')\n",
    "plt.xlabel('Molecule ID')\n",
    "plt.ylabel('Complexity')\n",
    "plt.title('Valdiation Predictions')\n",
    "plt.legend()"
   ]
  },
  {
   "cell_type": "markdown",
   "metadata": {},
   "source": [
    "## Evaluation (Performance)"
   ]
  },
  {
   "cell_type": "code",
   "execution_count": null,
   "metadata": {},
   "outputs": [
    {
     "data": {
      "text/plain": [
       "Text(0, 0.5, 'Predicted Complexity')"
      ]
     },
     "execution_count": 16,
     "metadata": {},
     "output_type": "execute_result"
    },
    {
     "data": {
      "image/png": "[encoded data removed]",
      "text/plain": [
       "<Figure size 432x288 with 1 Axes>"
      ]
     },
     "metadata": {
      "needs_background": "light"
     },
     "output_type": "display_data"
    }
   ],
   "source": [
    "best = everything['Predictions']\n",
    "actual = train_y[:s]\n",
    "\n",
    "db = pd.DataFrame({'real': actual, 'pred': best})\n",
    "sns.lineplot(x = 'real', y='pred', data=db)\n",
    "\n",
    "# reference green ranges\n",
    "sns.scatterplot(x=actual, y=actual-0.25, color='g')\n",
    "sns.scatterplot(x=actual, y=actual+0.25, color='g').set_title('95% Confidence Interval of prediction')\n",
    "plt.legend(labels=['Average Prediction', '95% CI', 'True Value Goalpost'])\n",
    "plt.xlabel('Target Value')\n",
    "plt.ylabel('Predicted Complexity')"
   ]
  },
  {
   "cell_type": "code",
   "execution_count": null,
   "metadata": {},
   "outputs": [],
   "source": [
    "diffs = actual - best\n",
    "\n",
    "def cumulative(diffs):\n",
    "    N = len(diffs)\n",
    "    n_steps = 1000\n",
    "    abs_diffs = abs(diffs)\n",
    "    mn, mx = min(abs_diffs), max(abs_diffs)\n",
    "    step = (mx - mn)/n_steps\n",
    "    y = []\n",
    "    x = []\n",
    "    for i in range(n_steps):\n",
    "        th = mn + i*step\n",
    "        x += [th]\n",
    "        y += [int(100*len(np.where(abs(abs_diffs) < th)[0])/len(diffs))]\n",
    "\n",
    "    return x, y"
   ]
  },
  {
   "cell_type": "code",
   "execution_count": null,
   "metadata": {},
   "outputs": [
    {
     "name": "stderr",
     "output_type": "stream",
     "text": [
      "/Users/nicolelrtin/miniconda3/lib/python3.9/site-packages/seaborn/_decorators.py:36: FutureWarning: Pass the following variables as keyword args: x, y. From version 0.12, the only valid positional argument will be `data`, and passing other arguments without an explicit keyword will result in an error or misinterpretation.\n",
      "  warnings.warn(\n"
     ]
    },
    {
     "data": {
      "text/plain": [
       "Text(0, 0.5, 'Count')"
      ]
     },
     "execution_count": 18,
     "metadata": {},
     "output_type": "execute_result"
    },
    {
     "data": {
      "image/png": "[encoded data removed]",
      "text/plain": [
       "<Figure size 432x288 with 1 Axes>"
      ]
     },
     "metadata": {
      "needs_background": "light"
     },
     "output_type": "display_data"
    }
   ],
   "source": [
    "dx, dy = cumulative(diffs)\n",
    "sns.scatterplot(dx, dy, linewidth=0)\n",
    "plt.xlabel('Validation Error')\n",
    "plt.ylabel('Count')"
   ]
  },
  {
   "cell_type": "code",
   "execution_count": null,
   "metadata": {},
   "outputs": [
    {
     "data": {
      "text/plain": [
       "Text(0.5, 0, 'Validation Error')"
      ]
     },
     "execution_count": 19,
     "metadata": {},
     "output_type": "execute_result"
    },
    {
     "data": {
      "image/png": "[encoded data removed]",
      "text/plain": [
       "<Figure size 432x288 with 1 Axes>"
      ]
     },
     "metadata": {
      "needs_background": "light"
     },
     "output_type": "display_data"
    }
   ],
   "source": [
    "db['diffs'] = diffs\n",
    "\n",
    "sns.histplot(diffs)\n",
    "plt.xlabel('Validation Error')"
   ]
  },
  {
   "cell_type": "code",
   "execution_count": null,
   "metadata": {},
   "outputs": [],
   "source": [
    "# def errorbar(best):\n",
    "#     rounded = pd.DataFrame({'pred': np.round(best * 2) / 2, \n",
    "#                         'actual': np.round(actual * 2) / 2})\n",
    "#     round_group = rounded.groupby('actual').agg(['mean', 'std', 'mad'])\n",
    "#     round_group.columns = round_group.columns.droplevel(0)\n",
    "#     return round_group.rename_axis(None, axis=1).reset_index()\n",
    "\n",
    "# errorbar(best)"
   ]
  },
  {
   "cell_type": "code",
   "execution_count": null,
   "metadata": {},
   "outputs": [
    {
     "data": {
      "text/plain": [
       "Text(0, 0.5, 'Continuous Predicted Complexity')"
      ]
     },
     "execution_count": 21,
     "metadata": {},
     "output_type": "execute_result"
    },
    {
     "data": {
      "image/png": "[encoded data removed]",
      "text/plain": [
       "<Figure size 432x288 with 1 Axes>"
      ]
     },
     "metadata": {
      "needs_background": "light"
     },
     "output_type": "display_data"
    }
   ],
   "source": [
    "# plt.violinplot(db.groupby('real')['pred'].apply(list).values,\n",
    "#             positions = np.arange(1, 5.5, 0.5), \n",
    "#             showmeans=True)\n",
    "sns.set_palette('Paired')\n",
    "sns.violinplot(x='real', y='pred', data = db)\n",
    "plt.title('Distribution of Val Prediction')\n",
    "plt.xlabel('Rounded True Values')\n",
    "plt.ylabel('Continuous Predicted Complexity')"
   ]
  },
  {
   "cell_type": "code",
   "execution_count": null,
   "metadata": {},
   "outputs": [],
   "source": [
    "# !jupyter nbconvert --to pdf <filename>"
   ]
  },
  {
   "cell_type": "markdown",
   "metadata": {},
   "source": [
    "## GS Test"
   ]
  },
  {
   "cell_type": "code",
   "execution_count": null,
   "metadata": {},
   "outputs": [
    {
     "name": "stderr",
     "output_type": "stream",
     "text": [
      "[11:22:40] Warning: conflicting stereochemistry at atom 30 ignored. by rule 1a.\n",
      "[11:22:40] Warning: conflicting stereochemistry at atom 30 ignored. by rule 1a.\n",
      "100%|██████████| 8/8 [00:01<00:00,  4.05it/s]"
     ]
    },
    {
     "name": "stdout",
     "output_type": "stream",
     "text": [
      "/Users/nicolelrtin/miniconda3/lib/python3.9/site-packages/numpy/core/fromnumeric.py:86: RuntimeWarning: overflow encountered in reduce\n",
      "  return ufunc.reduce(obj, axis, dtype, out, **passkwargs)\n"
     ]
    },
    {
     "name": "stderr",
     "output_type": "stream",
     "text": [
      "\n",
      "/var/folders/xp/lyc8z_3n0tl80zxzzyy6h_n00000gn/T/ipykernel_97085/2764939462.py:13: FutureWarning: In a future version of pandas all arguments of DataFrame.drop except for the argument 'labels' will be keyword-only.\n",
      "  new = featurize(gs_smis, True, True).drop(['ID','SMILES','ROMol'],1)\n"
     ]
    }
   ],
   "source": [
    "# pippa = ['BIC.sdf', 'FIL.sdf', 'FTC.sdf', 'RAN.sdf', 'SOF.sdf', 'Trodelvy drug linker.sdf', 'VEL.sdf', 'VOX.sdf']\n",
    "pippa = ['AMB.sdf', 'COBI.sdf', 'EVG.sdf', 'GS-1156.sdf', 'GS-1427.sdf', 'GS-4224-03.sdf', 'GS-5290.sdf', 'TAF.sdf']\n",
    "pippa_path = './data/Compound files/'\n",
    "\n",
    "gs_smis = pd.DataFrame()\n",
    "\n",
    "for file in pippa:\n",
    "    gs_smis = pd.concat([gs_smis,PandasTools.LoadSDF(pippa_path + file, smilesName='SMILES').head(1)])\n",
    "gs_smis['ID'] = pippa\n",
    "\n",
    "gs_smis = gs_smis.reset_index(drop=True)\n",
    "\n",
    "new = featurize(gs_smis, True, True).drop(['ID','SMILES','ROMol'],1)"
   ]
  },
  {
   "cell_type": "code",
   "execution_count": null,
   "metadata": {},
   "outputs": [
    {
     "name": "stderr",
     "output_type": "stream",
     "text": [
      "/var/folders/xp/lyc8z_3n0tl80zxzzyy6h_n00000gn/T/ipykernel_97085/265109067.py:1: FutureWarning: In a future version of pandas all arguments of DataFrame.drop except for the argument 'labels' will be keyword-only.\n",
      "  mandeep = pd.read_csv('./data/parsed_attributes_moe.csv').drop('MOLECULE',1)\n",
      "/var/folders/xp/lyc8z_3n0tl80zxzzyy6h_n00000gn/T/ipykernel_97085/265109067.py:3: FutureWarning: In a future version of pandas all arguments of concat except for the argument 'objs' will be keyword-only.\n",
      "  gs_test = pd.concat([mandeep,new], 1)[big_train.columns]\n"
     ]
    }
   ],
   "source": [
    "mandeep = pd.read_csv('./data/parsed_attributes_moe.csv').drop('MOLECULE',1)\n",
    "\n",
    "gs_test = pd.concat([mandeep,new], 1)[big_train.columns]\n",
    "gs_smis['Predictions'] = np.round(everything['Model'].predict(gs_test),1)"
   ]
  },
  {
   "cell_type": "code",
   "execution_count": null,
   "metadata": {},
   "outputs": [],
   "source": [
    "# gs_smis = gs_smis.drop('ROMol',1)\n",
    "gs_smis['MW'] = new['MW']\n",
    "gs_smis['sPMI'] = (0.13 * gs_smis.MW) + (177 * gs_smis.Predictions) - 252\n",
    "gs_smis['OLS'] = [0]*8\n",
    "gs_smis['sPMI_OLS'] = (0.13 * gs_smis.MW) + (177 * gs_smis.OLS) - 252\n"
   ]
  },
  {
   "cell_type": "code",
   "execution_count": null,
   "metadata": {},
   "outputs": [
    {
     "data": {
      "text/html": [
       "<div>\n",
       "<style scoped>\n",
       "    .dataframe tbody tr th:only-of-type {\n",
       "        vertical-align: middle;\n",
       "    }\n",
       "\n",
       "    .dataframe tbody tr th {\n",
       "        vertical-align: top;\n",
       "    }\n",
       "\n",
       "    .dataframe thead th {\n",
       "        text-align: right;\n",
       "    }\n",
       "</style>\n",
       "<table border=\"1\" class=\"dataframe\">\n",
       "  <thead>\n",
       "    <tr style=\"text-align: right;\">\n",
       "      <th></th>\n",
       "      <th>ID</th>\n",
       "      <th>Predictions</th>\n",
       "      <th>sPMI</th>\n",
       "      <th>OLS</th>\n",
       "      <th>sPMI_OLS</th>\n",
       "    </tr>\n",
       "  </thead>\n",
       "  <tbody>\n",
       "    <tr>\n",
       "      <th>0</th>\n",
       "      <td>AMB.sdf</td>\n",
       "      <td>3.3</td>\n",
       "      <td>381.260534</td>\n",
       "      <td>0</td>\n",
       "      <td>-202.839466</td>\n",
       "    </tr>\n",
       "    <tr>\n",
       "      <th>1</th>\n",
       "      <td>COBI.sdf</td>\n",
       "      <td>3.4</td>\n",
       "      <td>450.596145</td>\n",
       "      <td>0</td>\n",
       "      <td>-151.203855</td>\n",
       "    </tr>\n",
       "    <tr>\n",
       "      <th>2</th>\n",
       "      <td>EVG.sdf</td>\n",
       "      <td>3.0</td>\n",
       "      <td>337.126234</td>\n",
       "      <td>0</td>\n",
       "      <td>-193.873766</td>\n",
       "    </tr>\n",
       "    <tr>\n",
       "      <th>3</th>\n",
       "      <td>GS-1156.sdf</td>\n",
       "      <td>3.8</td>\n",
       "      <td>570.807049</td>\n",
       "      <td>0</td>\n",
       "      <td>-101.792951</td>\n",
       "    </tr>\n",
       "    <tr>\n",
       "      <th>4</th>\n",
       "      <td>GS-1427.sdf</td>\n",
       "      <td>3.8</td>\n",
       "      <td>512.670153</td>\n",
       "      <td>0</td>\n",
       "      <td>-159.929847</td>\n",
       "    </tr>\n",
       "    <tr>\n",
       "      <th>5</th>\n",
       "      <td>GS-4224-03.sdf</td>\n",
       "      <td>4.0</td>\n",
       "      <td>545.729075</td>\n",
       "      <td>0</td>\n",
       "      <td>-162.270925</td>\n",
       "    </tr>\n",
       "    <tr>\n",
       "      <th>6</th>\n",
       "      <td>GS-5290.sdf</td>\n",
       "      <td>3.8</td>\n",
       "      <td>517.607730</td>\n",
       "      <td>0</td>\n",
       "      <td>-154.992270</td>\n",
       "    </tr>\n",
       "    <tr>\n",
       "      <th>7</th>\n",
       "      <td>TAF.sdf</td>\n",
       "      <td>3.9</td>\n",
       "      <td>500.205182</td>\n",
       "      <td>0</td>\n",
       "      <td>-190.094818</td>\n",
       "    </tr>\n",
       "  </tbody>\n",
       "</table>\n",
       "</div>"
      ],
      "text/plain": [
       "               ID  Predictions        sPMI  OLS    sPMI_OLS\n",
       "0         AMB.sdf          3.3  381.260534    0 -202.839466\n",
       "1        COBI.sdf          3.4  450.596145    0 -151.203855\n",
       "2         EVG.sdf          3.0  337.126234    0 -193.873766\n",
       "3     GS-1156.sdf          3.8  570.807049    0 -101.792951\n",
       "4     GS-1427.sdf          3.8  512.670153    0 -159.929847\n",
       "5  GS-4224-03.sdf          4.0  545.729075    0 -162.270925\n",
       "6     GS-5290.sdf          3.8  517.607730    0 -154.992270\n",
       "7         TAF.sdf          3.9  500.205182    0 -190.094818"
      ]
     },
     "execution_count": 26,
     "metadata": {},
     "output_type": "execute_result"
    }
   ],
   "source": [
    "gs_smis[['ID', 'Predictions', 'sPMI', 'OLS', 'sPMI_OLS',]]"
   ]
  },
  {
   "cell_type": "code",
   "execution_count": null,
   "metadata": {},
   "outputs": [],
   "source": []
  },
  {
   "cell_type": "code",
   "execution_count": null,
   "metadata": {},
   "outputs": [],
   "source": []
  }
 ],
 "metadata": {
  "kernelspec": {
   "display_name": "Python 3 (ipykernel)",
   "language": "python",
   "name": "python3"
  },
  "language_info": {
   "codemirror_mode": {
    "name": "ipython",
    "version": 3
   },
   "file_extension": ".py",
   "mimetype": "text/x-python",
   "name": "python",
   "nbconvert_exporter": "python",
   "pygments_lexer": "ipython3",
   "version": "3.9.7"
  },
  "vscode": {
   "interpreter": {
    "hash": "5e738108667f1fe7fcead7a212b31a869d424b145bb26ae5a5d4d766800b57c8"
   }
  }
 },
 "nbformat": 4,
 "nbformat_minor": 2
}
