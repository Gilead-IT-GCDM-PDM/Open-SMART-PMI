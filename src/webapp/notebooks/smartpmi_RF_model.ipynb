{
 "cells": [
  {
   "cell_type": "markdown",
   "metadata": {},
   "source": [
    "# Random Forest Model for Smart PMI"
   ]
  },
  {
   "cell_type": "code",
   "execution_count": 2,
   "metadata": {},
   "outputs": [],
   "source": [
    "import numpy as np\n",
    "import pandas as pd\n",
    "import sys, os\n",
    "import random\n",
    "\n",
    "from sklearn.model_selection import train_test_split, RandomizedSearchCV, cross_val_score\n",
    "from sklearn.metrics import mean_absolute_error, mean_squared_error, r2_score\n",
    "from sklearn.ensemble import RandomForestRegressor, HistGradientBoostingRegressor,RandomForestClassifier, HistGradientBoostingClassifier\n",
    "\n",
    "from ipynb.fs.full.smartpmi_preprocessing import *"
   ]
  },
  {
   "cell_type": "markdown",
   "metadata": {},
   "source": [
    "## Test Train Split"
   ]
  },
  {
   "cell_type": "code",
   "execution_count": 1,
   "metadata": {},
   "outputs": [],
   "source": [
    "# -- test train split\n",
    "s = 500  # 500/1775 = .296"
   ]
  },
  {
   "cell_type": "markdown",
   "metadata": {},
   "source": [
    "## Modeling"
   ]
  },
  {
   "cell_type": "code",
   "execution_count": 10,
   "metadata": {},
   "outputs": [],
   "source": [
    "def rf_regress(x, rf = True, search = False, classify = False):\n",
    "    # -- Pick model\n",
    "    if rf:\n",
    "        model = RandomForestRegressor(random_state=42) \n",
    "        # if not classify else RandomForestClassifier(random_state=42) \n",
    "    else:\n",
    "        model = HistGradientBoostingRegressor(random_state=42, min_samples_leaf= 6,max_leaf_nodes= 5,max_depth= 6,l2_regularization= 1.5) \n",
    "        # if not classify else HistGradientBoostingClassifier(random_state=42) \n",
    "    \n",
    "    if search:\n",
    "        # -- Parameter Tuning\n",
    "        random_grid = {}\n",
    "        # Maximum number of levels in tree\n",
    "        max_depth = [int(x) for x in np.linspace(3, 10, num = 3)]\n",
    "        random_grid['max_depth'] = max_depth\n",
    "        # Minimum number of samples required at each leaf node\n",
    "        min_samples_leaf = [1, 2, 4, 6, 10]\n",
    "        random_grid['min_samples_leaf'] = min_samples_leaf\n",
    "    \n",
    "        if rf:\n",
    "            # Number of trees in random forest\n",
    "            n_estimators = [int(x) for x in np.linspace(start = 50, stop = 1000, num = 10)]\n",
    "            random_grid['n_estimators'] = n_estimators\n",
    "            # Number of features to consider at every split\n",
    "            max_features = ['auto', 'sqrt', 'log2']\n",
    "            random_grid['max_features'] = max_features\n",
    "            # Minimum number of samples required to split a node\n",
    "            min_samples_split = [5, 10, 20, 30]\n",
    "            random_grid['min_samples_split'] = min_samples_split\n",
    "            # Method of selecting samples for training each tree\n",
    "            bootstrap = [True, False]\n",
    "            random_grid['bootstrap'] = bootstrap\n",
    "        else:\n",
    "            # Maximum number of leaves for each tree\n",
    "            max_leaf_nodes = [3, 5, 10, 20, 30]\n",
    "            random_grid['max_leaf_nodes'] = max_leaf_nodes\n",
    "            # L2 Reg parameter\n",
    "            l2_regularization = [0, 1.5,] # --ORIGINAL--\n",
    "            # l2_regularization = [0,0.001, 0.01, 0,1, 0.5, 1, 1.5, 2, 2.5]\n",
    "            random_grid['l2_regularization'] = l2_regularization\n",
    "        \n",
    "        model = RandomizedSearchCV(estimator = model, param_distributions = random_grid, # --ORIGINAL--\n",
    "                                    n_iter = 40, cv = 3, verbose=2, random_state=42, n_jobs = -1) \n",
    "        # model = RandomizedSearchCV(estimator = model, param_distributions = random_grid,\n",
    "        #                             n_iter = 45, verbose=2, random_state=42, n_jobs = -1) \n",
    "\n",
    "    # x = x.apply(lambda i: np.log10(i) if np.issubdtype(type(i), np.number) else i)\n",
    "    model.fit(x[s:], train_y[s:])\n",
    "\n",
    "    # print('model parameters', standard_model.get_params())\n",
    "    print('...Validation...')\n",
    "    pred = model.predict(x[:s])\n",
    "    mae = mean_absolute_error(train_y[:s], pred)\n",
    "    mse = mean_squared_error(train_y[:s], pred)\n",
    "    rmse = mse**.5\n",
    "    r2 = r2_score(train_y[:s], pred)\n",
    "    scores = cross_val_score(model, x[:s], train_y[:s], scoring='r2', cv=5)\n",
    "    \n",
    "    print(' MAE', mae)\n",
    "    print(' MSE', mse)\n",
    "    print(' RMSE',rmse)\n",
    "    print(' R^2', r2)\n",
    "    print(' CV-R^2', scores)\n",
    "    print(' avg CV-R^2', np.mean(scores))\n",
    "\n",
    "    return {'MSE':mse, 'RMSE': rmse, 'R^2': r2, 'Predictions':pred, 'Model': model}\n"
   ]
  },
  {
   "cell_type": "code",
   "execution_count": 11,
   "metadata": {},
   "outputs": [
    {
     "name": "stdout",
     "output_type": "stream",
     "text": [
      "\n",
      " the whole enchilada (everything) ..\n",
      "...Validation...\n",
      " MAE 0.23396576829364774\n",
      " MSE 0.0846153676457081\n",
      " RMSE 0.29088720777254556\n",
      " R^2 0.8769786224970348\n",
      " CV-R^2 [0.86954788 0.80482568 0.79702635 0.84504659 0.85376981]\n",
      " avg CV-R^2 0.8340432634915109\n"
     ]
    }
   ],
   "source": [
    "# print('\\n no moe (baseline) .................')\n",
    "base = rf_regress(no_moe)\n",
    "\n",
    "# train_x + rdkit + mordred\n",
    "print('\\n the whole enchilada (everything) ..')\n",
    "everything = rf_regress(big_train, rf=False, search=False)"
   ]
  },
  {
   "cell_type": "code",
   "execution_count": 12,
   "metadata": {},
   "outputs": [
    {
     "data": {
      "text/html": [
       "<style>#sk-container-id-1 {color: black;background-color: white;}#sk-container-id-1 pre{padding: 0;}#sk-container-id-1 div.sk-toggleable {background-color: white;}#sk-container-id-1 label.sk-toggleable__label {cursor: pointer;display: block;width: 100%;margin-bottom: 0;padding: 0.3em;box-sizing: border-box;text-align: center;}#sk-container-id-1 label.sk-toggleable__label-arrow:before {content: \"▸\";float: left;margin-right: 0.25em;color: #696969;}#sk-container-id-1 label.sk-toggleable__label-arrow:hover:before {color: black;}#sk-container-id-1 div.sk-estimator:hover label.sk-toggleable__label-arrow:before {color: black;}#sk-container-id-1 div.sk-toggleable__content {max-height: 0;max-width: 0;overflow: hidden;text-align: left;background-color: #f0f8ff;}#sk-container-id-1 div.sk-toggleable__content pre {margin: 0.2em;color: black;border-radius: 0.25em;background-color: #f0f8ff;}#sk-container-id-1 input.sk-toggleable__control:checked~div.sk-toggleable__content {max-height: 200px;max-width: 100%;overflow: auto;}#sk-container-id-1 input.sk-toggleable__control:checked~label.sk-toggleable__label-arrow:before {content: \"▾\";}#sk-container-id-1 div.sk-estimator input.sk-toggleable__control:checked~label.sk-toggleable__label {background-color: #d4ebff;}#sk-container-id-1 div.sk-label input.sk-toggleable__control:checked~label.sk-toggleable__label {background-color: #d4ebff;}#sk-container-id-1 input.sk-hidden--visually {border: 0;clip: rect(1px 1px 1px 1px);clip: rect(1px, 1px, 1px, 1px);height: 1px;margin: -1px;overflow: hidden;padding: 0;position: absolute;width: 1px;}#sk-container-id-1 div.sk-estimator {font-family: monospace;background-color: #f0f8ff;border: 1px dotted black;border-radius: 0.25em;box-sizing: border-box;margin-bottom: 0.5em;}#sk-container-id-1 div.sk-estimator:hover {background-color: #d4ebff;}#sk-container-id-1 div.sk-parallel-item::after {content: \"\";width: 100%;border-bottom: 1px solid gray;flex-grow: 1;}#sk-container-id-1 div.sk-label:hover label.sk-toggleable__label {background-color: #d4ebff;}#sk-container-id-1 div.sk-serial::before {content: \"\";position: absolute;border-left: 1px solid gray;box-sizing: border-box;top: 0;bottom: 0;left: 50%;z-index: 0;}#sk-container-id-1 div.sk-serial {display: flex;flex-direction: column;align-items: center;background-color: white;padding-right: 0.2em;padding-left: 0.2em;position: relative;}#sk-container-id-1 div.sk-item {position: relative;z-index: 1;}#sk-container-id-1 div.sk-parallel {display: flex;align-items: stretch;justify-content: center;background-color: white;position: relative;}#sk-container-id-1 div.sk-item::before, #sk-container-id-1 div.sk-parallel-item::before {content: \"\";position: absolute;border-left: 1px solid gray;box-sizing: border-box;top: 0;bottom: 0;left: 50%;z-index: -1;}#sk-container-id-1 div.sk-parallel-item {display: flex;flex-direction: column;z-index: 1;position: relative;background-color: white;}#sk-container-id-1 div.sk-parallel-item:first-child::after {align-self: flex-end;width: 50%;}#sk-container-id-1 div.sk-parallel-item:last-child::after {align-self: flex-start;width: 50%;}#sk-container-id-1 div.sk-parallel-item:only-child::after {width: 0;}#sk-container-id-1 div.sk-dashed-wrapped {border: 1px dashed gray;margin: 0 0.4em 0.5em 0.4em;box-sizing: border-box;padding-bottom: 0.4em;background-color: white;}#sk-container-id-1 div.sk-label label {font-family: monospace;font-weight: bold;display: inline-block;line-height: 1.2em;}#sk-container-id-1 div.sk-label-container {text-align: center;}#sk-container-id-1 div.sk-container {/* jupyter's `normalize.less` sets `[hidden] { display: none; }` but bootstrap.min.css set `[hidden] { display: none !important; }` so we also need the `!important` here to be able to override the default hidden behavior on the sphinx rendered scikit-learn.org. See: https://github.com/scikit-learn/scikit-learn/issues/21755 */display: inline-block !important;position: relative;}#sk-container-id-1 div.sk-text-repr-fallback {display: none;}</style><div id=\"sk-container-id-1\" class=\"sk-top-container\"><div class=\"sk-text-repr-fallback\"><pre>HistGradientBoostingRegressor(l2_regularization=1.5, max_depth=6,\n",
       "                              max_leaf_nodes=5, min_samples_leaf=6,\n",
       "                              random_state=42)</pre><b>In a Jupyter environment, please rerun this cell to show the HTML representation or trust the notebook. <br />On GitHub, the HTML representation is unable to render, please try loading this page with nbviewer.org.</b></div><div class=\"sk-container\" hidden><div class=\"sk-item\"><div class=\"sk-estimator sk-toggleable\"><input class=\"sk-toggleable__control sk-hidden--visually\" id=\"sk-estimator-id-1\" type=\"checkbox\" checked><label for=\"sk-estimator-id-1\" class=\"sk-toggleable__label sk-toggleable__label-arrow\">HistGradientBoostingRegressor</label><div class=\"sk-toggleable__content\"><pre>HistGradientBoostingRegressor(l2_regularization=1.5, max_depth=6,\n",
       "                              max_leaf_nodes=5, min_samples_leaf=6,\n",
       "                              random_state=42)</pre></div></div></div></div></div>"
      ],
      "text/plain": [
       "HistGradientBoostingRegressor(l2_regularization=1.5, max_depth=6,\n",
       "                              max_leaf_nodes=5, min_samples_leaf=6,\n",
       "                              random_state=42)"
      ]
     },
     "execution_count": 12,
     "metadata": {},
     "output_type": "execute_result"
    }
   ],
   "source": [
    "everything['Model']"
   ]
  },
  {
   "cell_type": "code",
   "execution_count": null,
   "metadata": {},
   "outputs": [],
   "source": []
  }
 ],
 "metadata": {
  "kernelspec": {
   "display_name": "Python 3 (ipykernel)",
   "language": "python",
   "name": "python3"
  },
  "language_info": {
   "codemirror_mode": {
    "name": "ipython",
    "version": 3
   },
   "file_extension": ".py",
   "mimetype": "text/x-python",
   "name": "python",
   "nbconvert_exporter": "python",
   "pygments_lexer": "ipython3",
   "version": "3.9.7"
  },
  "vscode": {
   "interpreter": {
    "hash": "5e738108667f1fe7fcead7a212b31a869d424b145bb26ae5a5d4d766800b57c8"
   }
  }
 },
 "nbformat": 4,
 "nbformat_minor": 2
}
