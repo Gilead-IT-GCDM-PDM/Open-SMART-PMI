{
 "cells": [
  {
   "cell_type": "code",
   "execution_count": null,
   "id": "d164619e",
   "metadata": {},
   "outputs": [],
   "source": [
    "import pandas as pd\n",
    "import numpy as np\n",
    "import statsmodels.api as sm\n",
    "import statsmodels.formula.api as smf"
   ]
  },
  {
   "cell_type": "code",
   "execution_count": null,
   "id": "b8acb881",
   "metadata": {},
   "outputs": [],
   "source": [
    "sf = pd.read_csv('parsed_survey.csv')\n",
    "print(df.columns)\n",
    "ols_est = -0.989 + 0.0175*sf['UNIQUETT'] + 4.6*sf['CHIRAL_ALLATOM_RATIO'] + 0.51*sf['MOE_2D_VDISTMA'] - 0.514 * sf['MOE_2D_VDISTEQ']\n",
    "sf.insert(5, 'PREDICTED_OLS', ols_est) \n",
    "sf.head()"
   ]
  },
  {
   "cell_type": "code",
   "execution_count": null,
   "id": "9f5a8add",
   "metadata": {},
   "outputs": [],
   "source": [
    "sf['ln_TOTALATOM_COUNT'] = np.log(sf['TOTALATOM_COUNT'])\n",
    "sf['ln_UNIQUETT'] = np.log(sf['UNIQUETT'])"
   ]
  },
  {
   "cell_type": "code",
   "execution_count": null,
   "id": "f5b94daf",
   "metadata": {},
   "outputs": [],
   "source": [
    "model = smf.ols('meanComplexity ~ CHIRAL_ALLATOM_RATIO + ln_TOTALATOM_COUNT + ln_UNIQUETT', data=sf).fit()\n",
    "sf[['CHIRAL_ALLATOM_RATIO', 'TOTALATOM_COUNT', 'UNIQUETT']].head(100)"
   ]
  },
  {
   "cell_type": "code",
   "execution_count": null,
   "id": "32b7d16e",
   "metadata": {},
   "outputs": [],
   "source": [
    "model.summary()"
   ]
  },
  {
   "cell_type": "code",
   "execution_count": null,
   "id": "48aed767",
   "metadata": {},
   "outputs": [],
   "source": [
    "df = pd.read_csv('parsed_gilead2.csv')\n",
    "df['ln_TOTALATOM_COUNT'] = np.log(df['TOTALATOM_COUNT'])\n",
    "df['ln_UNIQUETT'] = np.log(df['UNIQUETT'])\n",
    "print(df.columns)\n",
    "\n",
    "predicted = model.predict(df)\n",
    "df.insert(1, 'PREDICTED_OLS', predicted) \n",
    "df.to_csv('gilead_results2.csv', index=False)\n",
    "df.head(10)"
   ]
  },
  {
   "cell_type": "code",
   "execution_count": null,
   "id": "6140589f",
   "metadata": {},
   "outputs": [],
   "source": [
    "sf['FITTED'] = model.fittedvalues.values\n",
    "sf['DIFF'] = sf['FITTED'] - sf['PREDICTED_RF']"
   ]
  },
  {
   "cell_type": "code",
   "execution_count": null,
   "id": "106b6044",
   "metadata": {},
   "outputs": [],
   "source": [
    "p = pd.DataFrame(columns=['molecule', 'type', 'complexity'])\n",
    "p['molecule'] = sf['MOLECULE']\n",
    "p['complexity'] = sf['PREDICTED_OLS']\n",
    "p['type'] = 'Random Forest (paper)'\n",
    "f = pd.DataFrame(columns=['molecule', 'type', 'complexity'])\n",
    "f['molecule'] = sf['MOLECULE']\n",
    "f['complexity'] = sf['FITTED']\n",
    "f['type'] = 'OLS Proposed'\n",
    "pf = pd.concat([p, f])\n",
    "pf['size'] = 0.5\n",
    "\n",
    "import plotly.express as px\n",
    "fig = px.scatter(pf, x='molecule', y='complexity', color='type', size='size') #, symbol='type')\n",
    "\n",
    "fig.update_layout(legend=dict(\n",
    "    yanchor=\"top\",\n",
    "    y=0.99,\n",
    "    xanchor=\"left\",\n",
    "    x=0.005\n",
    "))\n",
    "\n",
    "fig.show()"
   ]
  },
  {
   "cell_type": "code",
   "execution_count": null,
   "id": "73572f8b",
   "metadata": {
    "scrolled": false
   },
   "outputs": [],
   "source": [
    "print(df[['MOLECULE', 'PREDICTED_OLS', 'FITTED', 'pred']])"
   ]
  },
  {
   "cell_type": "code",
   "execution_count": null,
   "id": "e1cf4311",
   "metadata": {},
   "outputs": [],
   "source": [
    "def rename_cols(col):\n",
    "    if 'DESCRIPTORCOMPLEXITY' in col:\n",
    "        return col[len('DESCRIPTORCOMPLEXITY_'):]\n",
    "    if 'SP3CARBONS' in col:\n",
    "        return col[len('SP3CARBONS_'):]\n",
    "    return col"
   ]
  },
  {
   "cell_type": "code",
   "execution_count": null,
   "id": "4a66c518",
   "metadata": {},
   "outputs": [],
   "source": [
    "df = pd.read_csv('ci5001778_si_001.txt')\n",
    "df.columns = [rename_cols(c) for c in df.columns]\n",
    "len(df)"
   ]
  },
  {
   "cell_type": "code",
   "execution_count": null,
   "id": "aecd2416",
   "metadata": {},
   "outputs": [],
   "source": [
    "cols = ['meanComplexity'] + [c for c in df.columns[5:] if 'MOE' not in c]\n",
    "print(cols)\n",
    "corr = df[cols].corr()\n",
    "corr.style.background_gradient(cmap='coolwarm')\n"
   ]
  },
  {
   "cell_type": "code",
   "execution_count": null,
   "id": "6c67254b",
   "metadata": {},
   "outputs": [],
   "source": [
    "model2 = smf.ols('meanComplexity ~ CHIRAL_ALLATOM_RATIO + TOTALATOM_COUNT + UNIQUETT', data=df).fit()\n",
    "model2.summary()"
   ]
  },
  {
   "cell_type": "code",
   "execution_count": null,
   "id": "5f81bba7",
   "metadata": {},
   "outputs": [],
   "source": [
    "model_paper = smf.ols('meanComplexity ~ UNIQUETT + CHIRAL_ALLATOM_RATIO + MOE_2D_VDISTMA + MOE_2D_VDISTEQ', data=df).fit()\n",
    "model_paper.summary()"
   ]
  },
  {
   "cell_type": "code",
   "execution_count": null,
   "id": "e06c17ed",
   "metadata": {},
   "outputs": [],
   "source": [
    "df['FITTED'] = model2.fittedvalues.values\n",
    "df['DIFF'] = df['FITTED'] - df['meanComplexity']"
   ]
  },
  {
   "cell_type": "code",
   "execution_count": null,
   "id": "d4b15290",
   "metadata": {},
   "outputs": [],
   "source": [
    "p = pd.DataFrame(columns=['molecule', 'type', 'complexity'])\n",
    "p['molecule'] = df['MOLECULE']\n",
    "p['complexity'] = df['meanComplexity']\n",
    "p['type'] = 'Predicted'\n",
    "f = pd.DataFrame(columns=['molecule', 'type', 'complexity'])\n",
    "f['molecule'] = df['MOLECULE']\n",
    "f['complexity'] = df['FITTED']\n",
    "f['type'] = 'Fitted'\n",
    "pf = pd.concat([p, f])\n",
    "pf['size'] = 0.5\n",
    "\n",
    "import plotly.express as px\n",
    "# fig = px.scatter(pf, x='molecule', y='complexity', color='type')  #, size='size') #, symbol='type')\n",
    "fig = px.scatter(df, y='DIFF')   #, size='size') #, symbol='type')\n",
    "fig.show()"
   ]
  },
  {
   "cell_type": "code",
   "execution_count": null,
   "id": "7832bc7c",
   "metadata": {},
   "outputs": [],
   "source": [
    "df['FITTED'] = model2.fittedvalues.values\n",
    "df['DIFF'] = df['FITTED'] - df['meanComplexity']\n",
    "p = pd.DataFrame(columns=['molecule', 'type', 'complexity'])\n",
    "p['molecule'] = df['MOLECULE']\n",
    "p['complexity'] = df['meanComplexity']\n",
    "p['type'] = 'Predicted'\n",
    "f = pd.DataFrame(columns=['molecule', 'type', 'complexity'])\n",
    "f['molecule'] = df['MOLECULE']\n",
    "f['complexity'] = df['FITTED']\n",
    "f['type'] = 'Fitted'\n",
    "pf = pd.concat([p, f])\n",
    "pf['size'] = 0.5\n",
    "\n",
    "import plotly.express as px\n",
    "# fig = px.scatter(pf, x='molecule', y='complexity', color='type')  #, size='size') #, symbol='type')\n",
    "fig = px.scatter(df, y='DIFF')   #, size='size') #, symbol='type')\n",
    "fig.show()"
   ]
  },
  {
   "cell_type": "code",
   "execution_count": null,
   "id": "fa0190e5",
   "metadata": {},
   "outputs": [],
   "source": [
    "p = pd.DataFrame(columns=['molecule', 'type', 'complexity'])\n",
    "p['molecule'] = df['MOLECULE']\n",
    "p['complexity'] = df['meanComplexity']\n",
    "p['type'] = 'Predicted'\n",
    "f = pd.DataFrame(columns=['molecule', 'type', 'complexity'])\n",
    "f['molecule'] = df['MOLECULE']\n",
    "f['complexity'] = df['FITTED']\n",
    "f['type'] = 'Fitted'\n",
    "pf = pd.concat([p, f])\n",
    "pf['size'] = 0.5\n",
    "\n",
    "import plotly.express as px\n",
    "# fig = px.scatter(pf, x='molecule', y='complexity', color='type')  #, size='size') #, symbol='type')\n",
    "fig = px.scatter(df, y='DIFF')   #, size='size') #, symbol='type')\n",
    "fig.show()\n",
    "\n",
    "df['FITTED'] = model2.fittedvalues.values\n",
    "df['DIFF'] = df['FITTED'] - df['meanComplexity']\n",
    "p = pd.DataFrame(columns=['molecule', 'type', 'complexity'])\n",
    "p['molecule'] = df['MOLECULE']\n",
    "p['complexity'] = df['meanComplexity']\n",
    "p['type'] = 'Predicted'\n",
    "f = pd.DataFrame(columns=['molecule', 'type', 'complexity'])\n",
    "f['molecule'] = df['MOLECULE']\n",
    "f['complexity'] = df['FITTED']\n",
    "f['type'] = 'Fitted'\n",
    "pf = pd.concat([p, f])\n",
    "pf['size'] = 0.5\n",
    "\n",
    "import plotly.express as px\n",
    "# fig = px.scatter(pf, x='molecule', y='complexity', color='type')  #, size='size') #, symbol='type')\n",
    "fig = px.scatter(df, y='DIFF')   #, size='size') #, symbol='type')\n",
    "fig.show()"
   ]
  },
  {
   "cell_type": "code",
   "execution_count": null,
   "id": "380d8131",
   "metadata": {},
   "outputs": [],
   "source": [
    "import numpy as np\n",
    "\n",
    "def cummulative(diffs):\n",
    "    N = len(diffs)\n",
    "    n_steps = 1000\n",
    "    abs_diffs = abs(diffs)\n",
    "    mn, mx = min(abs_diffs), max(abs_diffs)\n",
    "    step = (mx - mn)/n_steps\n",
    "    y = []\n",
    "    x = []\n",
    "    for i in range(n_steps):\n",
    "        th = mn + i*step\n",
    "        x += [th]\n",
    "        y += [int(100*len(np.where(abs(abs_diffs) < th)[0])/len(diffs))]\n",
    "        \n",
    "    return x, y\n",
    "\n",
    "# cummulative(np.array(df['DIFF']))"
   ]
  },
  {
   "cell_type": "code",
   "execution_count": null,
   "id": "65f2b087",
   "metadata": {},
   "outputs": [],
   "source": [
    "p = pd.DataFrame(columns=['molecule', 'type', 'complexity'])\n",
    "p['molecule'] = df['MOLECULE']\n",
    "p['complexity'] = df['meanComplexity']\n",
    "p['type'] = 'Predicted'\n",
    "f = pd.DataFrame(columns=['molecule', 'type', 'complexity'])\n",
    "f['molecule'] = df['MOLECULE']\n",
    "f['complexity'] = df['FITTED']\n",
    "f['type'] = 'Fitted'\n",
    "pf = pd.concat([p, f])\n",
    "pf['size'] = 0.5\n",
    "\n",
    "import plotly.express as px\n",
    "# fig = px.scatter(pf, x='molecule', y='complexity', color='type')  #, size='size') #, symbol='type')\n",
    "fig = px.histogram(df, x='DIFF')   #, size='size') #, symbol='type')\n",
    "fig.show()\n",
    "\n",
    "df['FITTED'] = model2.fittedvalues.values\n",
    "df['DIFF'] = df['FITTED'] - df['meanComplexity']\n",
    "p = pd.DataFrame(columns=['molecule', 'type', 'complexity'])\n",
    "p['molecule'] = df['MOLECULE']\n",
    "p['complexity'] = df['meanComplexity']\n",
    "p['type'] = 'Predicted'\n",
    "f = pd.DataFrame(columns=['molecule', 'type', 'complexity'])\n",
    "f['molecule'] = df['MOLECULE']\n",
    "f['complexity'] = df['FITTED']\n",
    "f['type'] = 'Fitted'\n",
    "pf = pd.concat([p, f])\n",
    "pf['size'] = 0.5\n",
    "df['Error'] = df['DIFF']\n",
    "\n",
    "import plotly.express as px\n",
    "# fig = px.scatter(pf, x='molecule', y='complexity', color='type')  #, size='size') #, symbol='type')\n",
    "fig = px.histogram(df, x='Error')   #, size='size') #, symbol='type')\n",
    "fig.show()"
   ]
  },
  {
   "cell_type": "code",
   "execution_count": null,
   "id": "34ca5c2d",
   "metadata": {},
   "outputs": [],
   "source": [
    "p = pd.DataFrame(columns=['molecule', 'type', 'complexity'])\n",
    "p['molecule'] = df['MOLECULE']\n",
    "p['complexity'] = df['meanComplexity']\n",
    "p['type'] = 'Predicted'\n",
    "f = pd.DataFrame(columns=['molecule', 'type', 'complexity'])\n",
    "f['molecule'] = df['MOLECULE']\n",
    "f['complexity'] = df['FITTED']\n",
    "f['type'] = 'Fitted'\n",
    "pf = pd.concat([p, f])\n",
    "pf['size'] = 0.5\n",
    "\n",
    "diffs = np.array(df['DIFF'])\n",
    "cf_x, cf_y = cummulative(diffs)\n",
    "\n",
    "import plotly.express as px\n",
    "# fig = px.scatter(pf, x='molecule', y='complexity', color='type')  #, size='size') #, symbol='type')\n",
    "fig = px.scatter(x=cf_x, y=cf_y)\n",
    "fig.show()\n",
    "\n",
    "df['FITTED'] = model2.fittedvalues.values\n",
    "df['DIFF'] = df['FITTED'] - df['meanComplexity']\n",
    "p = pd.DataFrame(columns=['molecule', 'type', 'complexity'])\n",
    "p['molecule'] = df['MOLECULE']\n",
    "p['complexity'] = df['meanComplexity']\n",
    "p['type'] = 'Predicted'\n",
    "f = pd.DataFrame(columns=['molecule', 'type', 'complexity'])\n",
    "f['molecule'] = df['MOLECULE']\n",
    "f['complexity'] = df['FITTED']\n",
    "f['type'] = 'Fitted'\n",
    "pf = pd.concat([p, f])\n",
    "pf['size'] = 0.5\n",
    "\n",
    "diffs = np.array(df['DIFF'])\n",
    "cf_x, cf_y = cummulative(diffs)\n",
    "\n",
    "import plotly.express as px\n",
    "# fig = px.scatter(pf, x='molecule', y='complexity', color='type')  #, size='size') #, symbol='type')\n",
    "fig = px.scatter(x=cf_x, y=cf_y)\n",
    "fig.show()"
   ]
  },
  {
   "cell_type": "code",
   "execution_count": null,
   "id": "c0e6d7d7",
   "metadata": {},
   "outputs": [],
   "source": [
    "cdf = pd.DataFrame({'Absolute Error': cf_x, '% Data': cf_y})\n",
    "fig = px.scatter(cdf, x='Absolute Error', y='% Data')\n",
    "fig.show()"
   ]
  },
  {
   "cell_type": "code",
   "execution_count": null,
   "id": "62ec3534",
   "metadata": {},
   "outputs": [],
   "source": []
  }
 ],
 "metadata": {
  "kernelspec": {
   "display_name": "Python 3 (ipykernel)",
   "language": "python",
   "name": "python3"
  },
  "language_info": {
   "codemirror_mode": {
    "name": "ipython",
    "version": 3
   },
   "file_extension": ".py",
   "mimetype": "text/x-python",
   "name": "python",
   "nbconvert_exporter": "python",
   "pygments_lexer": "ipython3",
   "version": "3.9.10"
  }
 },
 "nbformat": 4,
 "nbformat_minor": 5
}
