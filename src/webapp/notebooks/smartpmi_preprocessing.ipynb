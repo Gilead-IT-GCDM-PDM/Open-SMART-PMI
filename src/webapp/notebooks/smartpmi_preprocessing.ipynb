{
 "cells": [
  {
   "cell_type": "markdown",
   "metadata": {},
   "source": [
    "# Preprocessing for Smart PMI Random Forest Model"
   ]
  },
  {
   "cell_type": "code",
   "execution_count": 1,
   "metadata": {},
   "outputs": [],
   "source": [
    "import numpy as np\n",
    "import pandas as pd\n",
    "import sys, os\n",
    "import random\n",
    "import re\n",
    "\n",
    "from rdkit import Chem\n",
    "from rdkit.Chem import PandasTools\n",
    "from mordred import Calculator, descriptors"
   ]
  },
  {
   "cell_type": "markdown",
   "metadata": {},
   "source": [
    "## Preprocessing"
   ]
  },
  {
   "cell_type": "code",
   "execution_count": 3,
   "metadata": {},
   "outputs": [],
   "source": [
    "# -- helper functions\n",
    "np.random.seed(42)\n",
    "random.seed(42)\n",
    "\n",
    "# -- get RDKit featurizers\n",
    "descriptor_names = list(Chem.rdMolDescriptors.Properties.GetAvailableProperties())\n",
    "get_descriptors = Chem.rdMolDescriptors.Properties(descriptor_names)\n",
    "# -- get Mordred featurizers\n",
    "calc = Calculator(descriptors, ignore_3D=True)\n",
    "\n",
    "def smi_to_descriptors(smile):\n",
    "    # -- RDK helper func\n",
    "    mol = Chem.MolFromSmiles(smile)\n",
    "    descriptors = []\n",
    "    if mol:\n",
    "        # -- use RDKit featurizers\n",
    "        descriptors = np.array(get_descriptors.ComputeProperties(mol))\n",
    "    return descriptors \n",
    "\n",
    "# -- apply molecular featurization on SMILES\n",
    "def featurize(df, use_rdk = False, use_m = False):\n",
    "    df = df.copy()\n",
    "    smiles = df.SMILES\n",
    "    append = [df]\n",
    "\n",
    "    # -- use RDKit featurizers\n",
    "    if use_rdk:\n",
    "        rdkit_desc = list(df.SMILES.apply(smi_to_descriptors))\n",
    "        desc_df = pd.DataFrame(rdkit_desc, columns=descriptor_names)\n",
    "        append += [desc_df]\n",
    "    # -- use Mordred featurizers\n",
    "    if use_m:\n",
    "        mols = [Chem.MolFromSmiles(smi) for smi in smiles if Chem.MolFromSmiles(smi) != None]\n",
    "        # drop = ['SpAbs_Dt',\t'SpMax_Dt'\t,'SpDiam_Dt'\t,'SpAD_Dt',\t'SpMAD_Dt'\t,'LogEE_Dt'\t,'SM1_Dt'\t,'VE1_Dt',\t'VE2_Dt',\n",
    "\t    #         'VE3_Dt',\t'VR1_Dt',\t'VR2_Dt',\t'VR3_Dt'\t,'DetourIndex']\n",
    "        mord_df = calc.pandas(mols) #.select_dtypes(include=['int64', 'float64'])\n",
    "        append += [mord_df]\n",
    "    \n",
    "    return pd.concat(append, axis=1)\n",
    "\n",
    "# -- find columns uncommon to dfs\n",
    "def validate_cols(df1, df2):\n",
    "    cols1, cols2 = df1.columns, df2.columns\n",
    "    validate_cols = [feature for feature in cols1 if feature not in cols2]\n",
    "    uncommon = set(cols1) ^ set(cols2)\n",
    "    print('outlying features (empty is good):', uncommon)"
   ]
  },
  {
   "cell_type": "code",
   "execution_count": 4,
   "metadata": {},
   "outputs": [],
   "source": [
    "# test imports : TODO: preprocess X\n",
    "\n",
    "## get SMILES data from test\n",
    "test_smi_path = './data/testdata.sdf'\n",
    "test_smis = Chem.PandasTools.LoadSDF(test_smi_path, smilesName = 'SMILES')[['ID','SMILES']]\n",
    "\n",
    "## get attrs from test\n",
    "attr_path = './data/parsed_attributes.csv'\n",
    "test_attr= pd.read_csv(attr_path)\n",
    "\n",
    "## naming\n",
    "test = pd.concat([test_smis, test_attr], ignore_index=False, axis=1)\n",
    "true_test = [3.1, 3.0, 3.1, 3.3, 1.9,4.0, 3.1, 4.1, 3.4, \n",
    "            2.5, 3.5, 2.8, 4.2, 2.5, 3.9, 2.8, 2.9, 3.3,\n",
    "            4.7, 3.9, 2.9, 4.3, 4.2, 2.9, 3.5, 4.4, 4.3, 3.2]\n",
    "test['TRUE'] = true_test"
   ]
  },
  {
   "cell_type": "code",
   "execution_count": 5,
   "metadata": {},
   "outputs": [],
   "source": [
    "# -- load training data [train_y, train_x]\n",
    "train_path = './data/ci5001778_si_001.txt'\n",
    "train = pd.read_csv(train_path).drop(['MOLECULE', 'Source', 'Votes'], axis=1)\n",
    "\n",
    "## -- naming\n",
    "train['meanComplexity'] = train.meanComplexity.apply(lambda x: np.round(x, decimals=3))\n",
    "con_pre = [col.replace('DESCRIPTORCOMPLEXITY_','') for col in train.columns]\n",
    "con_pre2 = [col.replace('SP3CARBONS_', '') for col in con_pre]\n",
    "no_moe_cols = [col for col in con_pre2 if 'MOE_2D_' not in col]\n",
    "## -- get rid of moe columns\n",
    "train.columns = con_pre2"
   ]
  },
  {
   "cell_type": "code",
   "execution_count": 6,
   "metadata": {},
   "outputs": [
    {
     "name": "stderr",
     "output_type": "stream",
     "text": [
      "[11:20:08] Explicit valence for atom # 14 N, 4, is greater than permitted\n",
      "[11:20:08] Explicit valence for atom # 9 N, 4, is greater than permitted\n",
      "[11:20:08] Explicit valence for atom # 22 N, 4, is greater than permitted\n",
      "[11:20:08] Explicit valence for atom # 17 N, 4, is greater than permitted\n",
      "[11:20:09] Explicit valence for atom # 26 N, 4, is greater than permitted\n",
      "[11:20:09] Explicit valence for atom # 21 N, 4, is greater than permitted\n",
      "[11:20:09] Explicit valence for atom # 11 N, 4, is greater than permitted\n",
      "[11:20:09] Explicit valence for atom # 21 N, 4, is greater than permitted\n",
      "[11:20:09] Explicit valence for atom # 8 N, 4, is greater than permitted\n",
      "[11:20:09] Explicit valence for atom # 12 N, 4, is greater than permitted\n",
      "[11:20:09] Explicit valence for atom # 7 N, 4, is greater than permitted\n",
      "[11:20:09] Explicit valence for atom # 18 N, 4, is greater than permitted\n",
      "[11:20:09] Explicit valence for atom # 28 N, 4, is greater than permitted\n",
      "[11:20:09] Explicit valence for atom # 17 N, 4, is greater than permitted\n",
      "[11:20:09] Explicit valence for atom # 5 N, 4, is greater than permitted\n",
      "[11:20:09] Explicit valence for atom # 21 N, 4, is greater than permitted\n",
      "[11:20:10] Explicit valence for atom # 9 N, 4, is greater than permitted\n",
      "[11:20:10] Explicit valence for atom # 29 N, 4, is greater than permitted\n",
      "[11:20:10] Explicit valence for atom # 29 N, 4, is greater than permitted\n",
      "[11:20:10] Explicit valence for atom # 8 N, 4, is greater than permitted\n",
      "[11:20:10] Explicit valence for atom # 11 N, 4, is greater than permitted\n",
      "[11:20:10] Explicit valence for atom # 17 N, 4, is greater than permitted\n",
      "[11:20:10] Explicit valence for atom # 39 N, 4, is greater than permitted\n",
      "[11:20:10] Explicit valence for atom # 7 N, 4, is greater than permitted\n",
      "[11:20:10] Explicit valence for atom # 13 N, 4, is greater than permitted\n",
      "[11:20:10] Explicit valence for atom # 23 N, 4, is greater than permitted\n",
      "[11:20:10] Explicit valence for atom # 13 N, 4, is greater than permitted\n",
      "[11:20:10] Explicit valence for atom # 11 N, 4, is greater than permitted\n",
      "[11:20:10] Explicit valence for atom # 24 N, 4, is greater than permitted\n",
      "[11:20:10] Explicit valence for atom # 10 N, 4, is greater than permitted\n",
      "[11:20:10] Explicit valence for atom # 6 N, 4, is greater than permitted\n",
      "[11:20:10] Explicit valence for atom # 29 N, 4, is greater than permitted\n",
      "[11:20:10] Explicit valence for atom # 3 N, 4, is greater than permitted\n",
      "[11:20:10] Explicit valence for atom # 8 N, 4, is greater than permitted\n",
      "[11:20:11] Explicit valence for atom # 16 N, 4, is greater than permitted\n",
      "[11:20:11] Explicit valence for atom # 30 N, 4, is greater than permitted\n",
      "[11:20:11] Explicit valence for atom # 25 N, 4, is greater than permitted\n",
      "[11:20:11] Explicit valence for atom # 16 N, 4, is greater than permitted\n",
      "[11:20:11] Explicit valence for atom # 10 N, 4, is greater than permitted\n",
      "[11:20:12] Explicit valence for atom # 10 N, 4, is greater than permitted\n",
      "[11:20:12] Explicit valence for atom # 8 N, 4, is greater than permitted\n",
      "[11:20:13] Explicit valence for atom # 19 N, 4, is greater than permitted\n",
      "[11:20:13] Explicit valence for atom # 9 N, 4, is greater than permitted\n",
      "[11:20:13] Explicit valence for atom # 12 N, 4, is greater than permitted\n",
      "[11:20:14] Explicit valence for atom # 14 N, 4, is greater than permitted\n",
      "[11:20:14] Explicit valence for atom # 9 N, 4, is greater than permitted\n",
      "[11:20:14] Explicit valence for atom # 22 N, 4, is greater than permitted\n",
      "[11:20:14] Explicit valence for atom # 17 N, 4, is greater than permitted\n",
      "[11:20:14] Explicit valence for atom # 26 N, 4, is greater than permitted\n",
      "[11:20:14] Explicit valence for atom # 21 N, 4, is greater than permitted\n",
      "[11:20:14] Explicit valence for atom # 11 N, 4, is greater than permitted\n",
      "[11:20:14] Explicit valence for atom # 21 N, 4, is greater than permitted\n",
      "[11:20:14] Explicit valence for atom # 8 N, 4, is greater than permitted\n",
      "[11:20:14] Explicit valence for atom # 12 N, 4, is greater than permitted\n",
      "[11:20:14] Explicit valence for atom # 7 N, 4, is greater than permitted\n",
      "[11:20:14] Explicit valence for atom # 18 N, 4, is greater than permitted\n",
      "[11:20:14] Explicit valence for atom # 28 N, 4, is greater than permitted\n",
      "[11:20:14] Explicit valence for atom # 17 N, 4, is greater than permitted\n",
      "[11:20:14] Explicit valence for atom # 5 N, 4, is greater than permitted\n",
      "[11:20:14] Explicit valence for atom # 21 N, 4, is greater than permitted\n",
      "[11:20:14] Explicit valence for atom # 9 N, 4, is greater than permitted\n",
      "[11:20:14] Explicit valence for atom # 29 N, 4, is greater than permitted\n",
      "[11:20:14] Explicit valence for atom # 29 N, 4, is greater than permitted\n",
      "[11:20:14] Explicit valence for atom # 8 N, 4, is greater than permitted\n",
      "[11:20:14] Explicit valence for atom # 11 N, 4, is greater than permitted\n",
      "[11:20:14] Explicit valence for atom # 17 N, 4, is greater than permitted\n",
      "[11:20:14] Explicit valence for atom # 39 N, 4, is greater than permitted\n",
      "[11:20:14] Explicit valence for atom # 7 N, 4, is greater than permitted\n",
      "[11:20:14] Explicit valence for atom # 13 N, 4, is greater than permitted\n",
      "[11:20:14] Explicit valence for atom # 23 N, 4, is greater than permitted\n",
      "[11:20:14] Explicit valence for atom # 13 N, 4, is greater than permitted\n",
      "[11:20:14] Explicit valence for atom # 11 N, 4, is greater than permitted\n",
      "[11:20:14] Explicit valence for atom # 24 N, 4, is greater than permitted\n",
      "[11:20:14] Explicit valence for atom # 10 N, 4, is greater than permitted\n",
      "[11:20:14] Explicit valence for atom # 6 N, 4, is greater than permitted\n",
      "[11:20:14] Explicit valence for atom # 29 N, 4, is greater than permitted\n",
      "[11:20:14] Explicit valence for atom # 3 N, 4, is greater than permitted\n",
      "[11:20:14] Explicit valence for atom # 8 N, 4, is greater than permitted\n",
      "[11:20:14] Explicit valence for atom # 16 N, 4, is greater than permitted\n",
      "[11:20:14] Explicit valence for atom # 30 N, 4, is greater than permitted\n",
      "[11:20:14] Explicit valence for atom # 25 N, 4, is greater than permitted\n",
      "[11:20:14] Explicit valence for atom # 16 N, 4, is greater than permitted\n",
      "[11:20:14] Explicit valence for atom # 10 N, 4, is greater than permitted\n",
      "[11:20:14] Explicit valence for atom # 10 N, 4, is greater than permitted\n",
      "[11:20:14] Explicit valence for atom # 8 N, 4, is greater than permitted\n",
      "[11:20:14] Explicit valence for atom # 19 N, 4, is greater than permitted\n",
      "[11:20:14] Explicit valence for atom # 9 N, 4, is greater than permitted\n",
      "[11:20:14] Explicit valence for atom # 12 N, 4, is greater than permitted\n",
      " 11%|█▏        | 196/1731 [00:11<01:19, 19.26it/s]"
     ]
    },
    {
     "name": "stdout",
     "output_type": "stream",
     "text": [
      "/Users/nicolelrtin/miniconda3/lib/python3.9/site-packages/numpy/core/fromnumeric.py:86: RuntimeWarning: overflow encountered in reduce\n",
      "  return ufunc.reduce(obj, axis, dtype, out, **passkwargs)\n"
     ]
    },
    {
     "name": "stderr",
     "output_type": "stream",
     "text": [
      " 17%|█▋        | 301/1731 [00:17<02:34,  9.24it/s]"
     ]
    },
    {
     "name": "stdout",
     "output_type": "stream",
     "text": [
      "/Users/nicolelrtin/miniconda3/lib/python3.9/site-packages/numpy/core/fromnumeric.py:86: RuntimeWarning: overflow encountered in reduce\n",
      "  return ufunc.reduce(obj, axis, dtype, out, **passkwargs)\n"
     ]
    },
    {
     "name": "stderr",
     "output_type": "stream",
     "text": [
      " 21%|██        | 362/1731 [00:21<01:54, 11.92it/s]"
     ]
    },
    {
     "name": "stdout",
     "output_type": "stream",
     "text": [
      "/Users/nicolelrtin/miniconda3/lib/python3.9/site-packages/numpy/core/fromnumeric.py:86: RuntimeWarning: overflow encountered in reduce\n",
      "  return ufunc.reduce(obj, axis, dtype, out, **passkwargs)\n"
     ]
    },
    {
     "name": "stderr",
     "output_type": "stream",
     "text": [
      " 32%|███▏      | 556/1731 [00:30<00:53, 22.02it/s]"
     ]
    },
    {
     "name": "stdout",
     "output_type": "stream",
     "text": [
      "/Users/nicolelrtin/miniconda3/lib/python3.9/site-packages/numpy/core/fromnumeric.py:86: RuntimeWarning: overflow encountered in reduce\n",
      "  return ufunc.reduce(obj, axis, dtype, out, **passkwargs)\n"
     ]
    },
    {
     "name": "stderr",
     "output_type": "stream",
     "text": [
      " 40%|████      | 698/1731 [00:39<00:45, 22.55it/s]"
     ]
    },
    {
     "name": "stdout",
     "output_type": "stream",
     "text": [
      "/Users/nicolelrtin/miniconda3/lib/python3.9/site-packages/numpy/core/fromnumeric.py:86: RuntimeWarning: overflow encountered in reduce\n",
      "  return ufunc.reduce(obj, axis, dtype, out, **passkwargs)\n"
     ]
    },
    {
     "name": "stderr",
     "output_type": "stream",
     "text": [
      " 65%|██████▌   | 1129/1731 [01:10<00:43, 13.99it/s]"
     ]
    },
    {
     "name": "stdout",
     "output_type": "stream",
     "text": [
      "/Users/nicolelrtin/miniconda3/lib/python3.9/site-packages/numpy/core/fromnumeric.py:86: RuntimeWarning: overflow encountered in reduce\n",
      "  return ufunc.reduce(obj, axis, dtype, out, **passkwargs)\n"
     ]
    },
    {
     "name": "stderr",
     "output_type": "stream",
     "text": [
      " 74%|███████▍  | 1284/1731 [01:22<00:53,  8.29it/s]"
     ]
    },
    {
     "name": "stdout",
     "output_type": "stream",
     "text": [
      "/Users/nicolelrtin/miniconda3/lib/python3.9/site-packages/numpy/core/fromnumeric.py:86: RuntimeWarning: overflow encountered in reduce\n",
      "  return ufunc.reduce(obj, axis, dtype, out, **passkwargs)\n",
      "/Users/nicolelrtin/miniconda3/lib/python3.9/site-packages/numpy/core/fromnumeric.py:86: RuntimeWarning: overflow encountered in reduce\n",
      "  return ufunc.reduce(obj, axis, dtype, out, **passkwargs)\n"
     ]
    },
    {
     "name": "stderr",
     "output_type": "stream",
     "text": [
      " 75%|███████▍  | 1293/1731 [01:23<00:47,  9.30it/s]"
     ]
    },
    {
     "name": "stdout",
     "output_type": "stream",
     "text": [
      "/Users/nicolelrtin/miniconda3/lib/python3.9/site-packages/numpy/core/fromnumeric.py:86: RuntimeWarning: overflow encountered in reduce\n",
      "  return ufunc.reduce(obj, axis, dtype, out, **passkwargs)\n"
     ]
    },
    {
     "name": "stderr",
     "output_type": "stream",
     "text": [
      " 78%|███████▊  | 1357/1731 [01:30<00:41,  8.92it/s]"
     ]
    },
    {
     "name": "stdout",
     "output_type": "stream",
     "text": [
      "/Users/nicolelrtin/miniconda3/lib/python3.9/site-packages/numpy/core/fromnumeric.py:86: RuntimeWarning: overflow encountered in reduce\n",
      "  return ufunc.reduce(obj, axis, dtype, out, **passkwargs)\n"
     ]
    },
    {
     "name": "stderr",
     "output_type": "stream",
     "text": [
      "100%|██████████| 1731/1731 [01:53<00:00, 15.30it/s]\n"
     ]
    }
   ],
   "source": [
    "flag_nulls = featurize(train[no_moe_cols], True, True)\n",
    "exclude = flag_nulls[flag_nulls.isna().any(axis=1)].index\n",
    "trim = lambda df : df[~df.index.isin(exclude)]"
   ]
  },
  {
   "cell_type": "code",
   "execution_count": null,
   "metadata": {},
   "outputs": [],
   "source": [
    "# -- target values\n",
    "test_y = test.TRUE.to_numpy()\n",
    "train_y = trim(train).meanComplexity.to_numpy()\n",
    "\n",
    "test_yr = np.round(test_y * 2)/2\n",
    "train_yr = np.round(train_y * 2)/2\n",
    "\n",
    "# -- feature engineered dfs\n",
    "no_moe = trim(train[no_moe_cols].drop(['SMILES', 'meanComplexity', 'stdevComplexity'], axis=1))\n",
    "big_train = trim(flag_nulls.drop(['SMILES', 'meanComplexity', 'stdevComplexity'], axis=1))\n",
    "\n",
    "big_test = featurize(test, True, True)[big_train.columns]"
   ]
  },
  {
   "cell_type": "code",
   "execution_count": null,
   "metadata": {},
   "outputs": [],
   "source": [
    "print(big_train.shape, train_y.shape)"
   ]
  }
 ],
 "metadata": {
  "kernelspec": {
   "display_name": "Python 3.9.12 ('base')",
   "language": "python",
   "name": "python3"
  },
  "language_info": {
   "codemirror_mode": {
    "name": "ipython",
    "version": 3
   },
   "file_extension": ".py",
   "mimetype": "text/x-python",
   "name": "python",
   "nbconvert_exporter": "python",
   "pygments_lexer": "ipython3",
   "version": "3.9.12"
  },
  "orig_nbformat": 4,
  "vscode": {
   "interpreter": {
    "hash": "5e738108667f1fe7fcead7a212b31a869d424b145bb26ae5a5d4d766800b57c8"
   }
  }
 },
 "nbformat": 4,
 "nbformat_minor": 2
}
